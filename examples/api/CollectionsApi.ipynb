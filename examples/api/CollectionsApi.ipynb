{
 "cells": [
  {
   "cell_type": "markdown",
   "metadata": {},
   "source": [
    "# CollectionsApi\n",
    "\n",
    "CollectionsApi lets you create certain collections:\n",
    "- An **EntityTypeCollection**: a specific set of entity types.  The example in this notebook is the Questionnaire-collection.  It consists of all entity types that collect information on questionnaires.\n",
    "- An **EntitySetCollection**: an instantiation of an entity type collection.  This is an actual collection of datasets that you can write/read from.\n",
    "\n",
    "Creating and changing EntityTypeCollections can only be done by administrators, all other functions are open to all users.\n",
    "\n",
    "## Notebook goals\n",
    "\n",
    "**At the end of this notebook, we want to have a collection of Entity Sets for an (to be created) EntityTypeCollection of type `ol.questionnaires` in the Demo Organization**\n",
    "Creating and modifying EntityTypeCollections can only be done by admins, so as a user, you can skip those sections.\n",
    "\n",
    "_**EntityTypeCollections (admin only)**_\n",
    "1. (admin) The goal initially is to create an EntityTypeCollection with the following entity types:\n",
    "  - `ol.study`\n",
    "  - `general.person`\n",
    "  - `ol.survey`\n",
    "  - `ol.answer`\n",
    "  - `ol.question`\n",
    "  - `ol.addresses`\n",
    "  - `ol.respondswith`\n",
    "  - `ol.partof`\n",
    "  - `general.participatedin`\n",
    "\n",
    "\n",
    "2. (admin) We will add and remove another EntityType to and from the EntityTypeCollection.\n",
    "3. (admin) We will assign metadata to the EntityTypeCollection\n",
    "\n",
    "_**EntitySetCollections**_\n",
    "1. Show different ways to find and read EntityTypeCollections\n",
    "2. Create two EntitySetCollections\n",
    "3. Change the template of the EntitySetCollection\n",
    "4. Assign metadata to the EntitySetCollection\n",
    "5. Find your EntitySetCollections\n",
    "6. Remove one of the new EntitySetCollections"
   ]
  },
  {
   "cell_type": "markdown",
   "metadata": {},
   "source": [
    "## Configuration"
   ]
  },
  {
   "cell_type": "markdown",
   "metadata": {},
   "source": [
    "To connect to the OpenLattice api, we set up the configuration and load the necessary Api's. \n",
    "**jwt**: As authentication, we use a jwt-token.  You can find this token in your account information on the [OpenLattice Gallery App](https://openlattice.com/gallery/#/edit_account)"
   ]
  },
  {
   "cell_type": "code",
   "execution_count": 1,
   "metadata": {},
   "outputs": [],
   "source": [
    "from pprint import pprint\n",
    "import openlattice\n",
    "\n",
    "jwt = \"***\"\n",
    "baseurl = 'https://api.openlattice.com'\n",
    "configuration = openlattice.Configuration()\n",
    "configuration.host = baseurl\n",
    "configuration.api_key_prefix['Authorization'] = 'Bearer'\n",
    "configuration.api_key['Authorization'] = jwt\n",
    "\n",
    "collectionsApi = openlattice.CollectionsApi(\n",
    "    openlattice.ApiClient(configuration))\n",
    "edmApi = openlattice.EdmApi(\n",
    "    openlattice.ApiClient(configuration))\n",
    "entitySetsApi = openlattice.EntitySetsApi(\n",
    "    openlattice.ApiClient(configuration))\n",
    "\n",
    "org_id = \"1d5aa1f4-4d22-46a5-97cd-dcc6820e7ff8\" # demo organization"
   ]
  },
  {
   "cell_type": "markdown",
   "metadata": {},
   "source": [
    "## Entity Type Collection\n",
    "\n",
    "First we will create an entity type collection.  If you are not an admin, please skip this part.\n",
    "\n",
    "### (admin only) Admin Functions\n",
    "\n",
    "Method | HTTP request | Description\n",
    "------------- | ------------- | -------------\n",
    "**add_type_to_entity_type_collection_template** | **PATCH** /datastore/collections/entity/type/{entityTypeCollectionId}/template | Appends type to template of the specified EntityTypeCollection\n",
    "**create_entity_type_collection** | **POST** /datastore/collections/entity/type | Creates a new EntityTypeCollection\n",
    "**delete_entity_type_collection** | **DELETE** /datastore/collections/entity/type/{entityTypeCollectionId} | Deletes the specified EntityTypeCollection\n",
    "**remove_type_from_entity_type_collection_template** | **DELETE** /datastore/collections/entity/type/{entityTypeCollectionId}/template/{typeId} | Removes a key from an EntityTypeCollection template\n",
    "**update_entity_type_collection_metadata** | **PATCH** /datastore/collections/entity/type/{entityTypeCollectionId} | Updates metadata of the specified EntityTypeCollection"
   ]
  },
  {
   "cell_type": "markdown",
   "metadata": {},
   "source": [
    "#### Creating and deleting an EntityTypeCollection"
   ]
  },
  {
   "cell_type": "markdown",
   "metadata": {},
   "source": [
    "First, we want to define a **CollectionTemplateType**, which means we assign metadata to the EntityTypes we want to use.  The following arguments can be given to a CollectionTemplateType.  Most importantly, they contain an EntityTypeId and a name.  All other fields are optional.\n",
    "\n",
    "The reason we are not just defining EntityTypes is because this way, we can allow multiple of the same EntityTypes to be present in a collection.  In another (future?) context, we might have 2 sets of people: (1) participants and (2) researchers. \n",
    "\n",
    "`openlattice.CollectionTemplateType`\n",
    "\n",
    "Name | Type | Description\n",
    "------------ | ------------- | -------------\n",
    "**id** | **str** | An optional UUID for the collection template type.\n",
    "**name** | **str** | The unique name of the collection template type.\n",
    "**title** | **str** | The friendly name for the collection template type.\n",
    "**description** | **str** | A description of the collection template type.\n",
    "**entity_type_id** | **str** | The id of the entity type that this collection template type wraps.\n",
    "\n",
    "Below we create the **CollectionTemplateType**'s for our questionnaire EntityTypeCollection."
   ]
  },
  {
   "cell_type": "code",
   "execution_count": 2,
   "metadata": {},
   "outputs": [],
   "source": [
    "collectionTemplateTypes = [\n",
    "    openlattice.CollectionTemplateType(\n",
    "        entity_type_id = edmApi.get_entity_type_id(\n",
    "            namespace = \"ol\", name = \"study\"),\n",
    "        name = \"studies\",\n",
    "        title = \"Studies\",\n",
    "        description = \"A collection of all studies run with different questionnaires.\"      \n",
    "    ),\n",
    "    openlattice.CollectionTemplateType(\n",
    "        entity_type_id = edmApi.get_entity_type_id(\n",
    "            namespace = \"general\", name = \"person\"),\n",
    "        name = \"participants\",\n",
    "        title = \"Participants\",\n",
    "        description = \"Participants in different studies and questionnaires.\"      \n",
    "    ),\n",
    "    openlattice.CollectionTemplateType(\n",
    "        entity_type_id = edmApi.get_entity_type_id(\n",
    "            namespace = \"ol\", name = \"survey\"),\n",
    "        name = \"questionnaires\",\n",
    "        title = \"Questionnaires\",\n",
    "        description = \"Different questionnaires as part of the studies.\"      \n",
    "    ),\n",
    "    openlattice.CollectionTemplateType(\n",
    "        entity_type_id = edmApi.get_entity_type_id(\n",
    "            namespace = \"ol\", name = \"question\"),\n",
    "        name = \"questions\",\n",
    "        title = \"Questions\",\n",
    "        description = \"Questions asked in the questionnaires and their metadata.  These fields represent the columns of the output data.\"      \n",
    "    ),\n",
    "    openlattice.CollectionTemplateType(\n",
    "        entity_type_id = edmApi.get_entity_type_id(\n",
    "            namespace = \"ol\", name = \"answer\"),\n",
    "        name = \"answers\",\n",
    "        title = \"Answers\",\n",
    "        description = \"Answers provided to the questions asked.\"      \n",
    "    ),\n",
    "    openlattice.CollectionTemplateType(\n",
    "        entity_type_id = edmApi.get_entity_type_id(\n",
    "            namespace = \"ol\", name = \"addresses\"),\n",
    "        name = \"addresses\",\n",
    "        title = \"Addresses\"\n",
    "    ),\n",
    "    openlattice.CollectionTemplateType(\n",
    "        entity_type_id = edmApi.get_entity_type_id(\n",
    "            namespace = \"ol\", name = \"respondswith\"),\n",
    "        name = \"responds_with\",\n",
    "        title = \"Responds With\"\n",
    "    ),\n",
    "    openlattice.CollectionTemplateType(\n",
    "        entity_type_id = edmApi.get_entity_type_id(\n",
    "            namespace = \"ol\", name = \"partof\"),\n",
    "        name = \"part_of\",\n",
    "        title = \"Part Of\"\n",
    "    ),\n",
    "    openlattice.CollectionTemplateType(\n",
    "        entity_type_id = edmApi.get_entity_type_id(\n",
    "            namespace = \"general\", name = \"participatedin\"),\n",
    "        name = \"participated_in\",\n",
    "        title = \"Participated In\"\n",
    "    )    \n",
    "]"
   ]
  },
  {
   "cell_type": "markdown",
   "metadata": {},
   "source": [
    "With these defined CollectionTemplateTypes, we can define the **EntityTypeCollection**.\n",
    "\n",
    "\n",
    "**Note:** we're calling it `test.questionnaires` with the goal of removing it, so that we can re-run this notebook.\n",
    "\n",
    "Name | Type | Description\n",
    "------------ | ------------- | -------------\n",
    "**id** | **str** | An optional UUID for the entity type collection.\n",
    "**type** | **FullQualifiedName** |  | [optional] \n",
    "**title** | **str** | The friendly name for the entity type collection.\n",
    "**description** | **str** | A description of the entity type collection.\n",
    "**schemas** | **list[FullQualifiedName**] | A list of schemas the entity type collection should belong to.\n",
    "**template** | **list[CollectionTemplateType]** | A set of CollectionTemplateType objects, which describe the entity types involved in the entity type collection and the purposes they serve"
   ]
  },
  {
   "cell_type": "code",
   "execution_count": 3,
   "metadata": {},
   "outputs": [],
   "source": [
    "etc = openlattice.EntityTypeCollection(\n",
    "    type = openlattice.FullQualifiedName(\n",
    "        namespace = \"test\", \n",
    "        name = \"questionnaires\"),\n",
    "    title = \"Questionnaires\",\n",
    "    description = \"Collection of EntityTypes for questionnaires\",\n",
    "    schemas = [],\n",
    "    template = collectionTemplateTypes\n",
    ")"
   ]
  },
  {
   "cell_type": "markdown",
   "metadata": {},
   "source": [
    "Finally, we can create the EntityTypeCollection:"
   ]
  },
  {
   "cell_type": "code",
   "execution_count": 4,
   "metadata": {},
   "outputs": [
    {
     "name": "stdout",
     "output_type": "stream",
     "text": [
      "7a3b7962-f5eb-4c3c-8351-2663500ab439\n"
     ]
    }
   ],
   "source": [
    "etc_id = collectionsApi.create_entity_type_collection(etc)\n",
    "print(etc_id)"
   ]
  },
  {
   "cell_type": "markdown",
   "metadata": {},
   "source": [
    "When successful, we get the EntityTypeCollectionId.\n",
    "We can also delete it again, and recreate:"
   ]
  },
  {
   "cell_type": "code",
   "execution_count": 5,
   "metadata": {},
   "outputs": [
    {
     "name": "stdout",
     "output_type": "stream",
     "text": [
      "36b919d7-cf2b-426d-8ed2-ccfb4d985362\n"
     ]
    }
   ],
   "source": [
    "collectionsApi.delete_entity_type_collection(etc_id)\n",
    "etc_id = collectionsApi.create_entity_type_collection(etc)\n",
    "print(etc_id)"
   ]
  },
  {
   "cell_type": "markdown",
   "metadata": {},
   "source": [
    "#### Looking at the collection\n",
    "\n",
    "We can query the collection using `get_entity_type_collection` (more details below for users).  We're just showing the description.  Print out for more details."
   ]
  },
  {
   "cell_type": "code",
   "execution_count": 6,
   "metadata": {},
   "outputs": [
    {
     "name": "stdout",
     "output_type": "stream",
     "text": [
      "Collection of EntityTypes for questionnaires\n"
     ]
    }
   ],
   "source": [
    "etc = collectionsApi.get_entity_type_collection(etc_id)\n",
    "print(etc.description)"
   ]
  },
  {
   "cell_type": "markdown",
   "metadata": {},
   "source": [
    "#### Adding and removing entity types from the collection\n",
    "\n",
    "We are now going to add `ol.surveymetadata` and remove it again."
   ]
  },
  {
   "cell_type": "code",
   "execution_count": 7,
   "metadata": {},
   "outputs": [],
   "source": [
    "etid = edmApi.get_entity_type_id(namespace = \"ol\", name = \"surveymetadata\")"
   ]
  },
  {
   "cell_type": "code",
   "execution_count": 8,
   "metadata": {},
   "outputs": [],
   "source": [
    "collectionsApi.add_type_to_entity_type_collection_template(\n",
    "    etc_id,\n",
    "    openlattice.CollectionTemplateType(\n",
    "        entity_type_id = etid,\n",
    "        name = \"survey_metadata\",\n",
    "        title = \"Survey Metadata\"\n",
    "    )\n",
    ")"
   ]
  },
  {
   "cell_type": "markdown",
   "metadata": {},
   "source": [
    "If we now print out all titles of the templates, we can see **Survey Metadata**."
   ]
  },
  {
   "cell_type": "code",
   "execution_count": 9,
   "metadata": {},
   "outputs": [
    {
     "name": "stdout",
     "output_type": "stream",
     "text": [
      "['Studies', 'Participants', 'Questionnaires', 'Questions', 'Answers', 'Addresses', 'Responds With', 'Part Of', 'Participated In', 'Survey Metadata']\n"
     ]
    }
   ],
   "source": [
    "etc = collectionsApi.get_entity_type_collection(etc_id)\n",
    "print([x.title for x in etc.template])"
   ]
  },
  {
   "cell_type": "markdown",
   "metadata": {},
   "source": [
    "To remove the entityType, we need to find it's unique id.  This is not just the entityTypeId, since that can correspond to multiple instantiations of the same entityType."
   ]
  },
  {
   "cell_type": "code",
   "execution_count": 10,
   "metadata": {},
   "outputs": [
    {
     "name": "stdout",
     "output_type": "stream",
     "text": [
      "8192bb3a-590a-4195-bf80-d6e74bf4938c\n"
     ]
    }
   ],
   "source": [
    "collection_template_id = [x.id for x in etc.template if x.name == \"survey_metadata\"][0]\n",
    "print(collection_template_id)"
   ]
  },
  {
   "cell_type": "code",
   "execution_count": 11,
   "metadata": {},
   "outputs": [],
   "source": [
    "collectionsApi.remove_type_from_entity_type_collection_template(etc_id, collection_template_id)"
   ]
  },
  {
   "cell_type": "markdown",
   "metadata": {},
   "source": [
    "After removing the collectionTemplateType, we can see that **Survey Metadata** is not in the collection anymore."
   ]
  },
  {
   "cell_type": "code",
   "execution_count": 12,
   "metadata": {},
   "outputs": [
    {
     "name": "stdout",
     "output_type": "stream",
     "text": [
      "['Studies', 'Participants', 'Questionnaires', 'Questions', 'Answers', 'Addresses', 'Responds With', 'Part Of', 'Participated In']\n"
     ]
    }
   ],
   "source": [
    "etc = collectionsApi.get_entity_type_collection(etc_id)\n",
    "print([x.title for x in etc.template])"
   ]
  },
  {
   "cell_type": "markdown",
   "metadata": {},
   "source": [
    "#### Changing metadata on the Collection\n",
    "\n",
    "To change an EntityTypeCollection, we need to provide the EntityTypeCollectionId, and a general MetadataUpdate-argument."
   ]
  },
  {
   "cell_type": "code",
   "execution_count": 13,
   "metadata": {},
   "outputs": [],
   "source": [
    "new_description = \"Questionnaires EntityTypeCollection\"\n",
    "\n",
    "collectionsApi.update_entity_type_collection_metadata(\n",
    "    entity_type_collection_id = etc_id,\n",
    "    metadata_update = openlattice.MetadataUpdate(\n",
    "        description = new_description\n",
    "    )\n",
    ")"
   ]
  },
  {
   "cell_type": "markdown",
   "metadata": {},
   "source": [
    "When we call again the EntityTypeCollection, we can indeed see the description has changed."
   ]
  },
  {
   "cell_type": "code",
   "execution_count": 14,
   "metadata": {},
   "outputs": [
    {
     "data": {
      "text/plain": [
       "'Questionnaires EntityTypeCollection'"
      ]
     },
     "execution_count": 14,
     "metadata": {},
     "output_type": "execute_result"
    }
   ],
   "source": [
    "etc = collectionsApi.get_entity_type_collection(etc_id)\n",
    "etc.description"
   ]
  },
  {
   "cell_type": "markdown",
   "metadata": {},
   "source": [
    "### User Functions\n",
    "\n",
    "As a user, to browse around EntityTypeCollections, there are two functions.  \n",
    "\n",
    "Method | HTTP request | Description\n",
    "------------- | ------------- | -------------\n",
    "[**get_entity_type_collection**](CollectionsApi.md#get_entity_type_collection) | **GET** /datastore/collections/entity/type/{entityTypeCollectionId} | Returns the EntityTypeCollection object for a given id\n",
    "[**get_all_entity_type_collections**](CollectionsApi.md#get_all_entity_type_collections) | **GET** /datastore/collections/entity/type | Returns all EntityTypeCollection objects\n",
    "\n",
    "Getting all entitytypes is a big object, so we only print out parts from it."
   ]
  },
  {
   "cell_type": "code",
   "execution_count": 15,
   "metadata": {},
   "outputs": [],
   "source": [
    "etcs = collectionsApi.get_all_entity_type_collections()"
   ]
  },
  {
   "cell_type": "code",
   "execution_count": 16,
   "metadata": {},
   "outputs": [
    {
     "name": "stdout",
     "output_type": "stream",
     "text": [
      "{'Jail related entity sets': {'entity_types': ['person_collection',\n",
      "                                               'jailstay_collection',\n",
      "                                               'jailstaylength_collection',\n",
      "                                               'facility_collection',\n",
      "                                               'case_collection',\n",
      "                                               'persondetails_collection',\n",
      "                                               'persondetailscriminaljustice_collection',\n",
      "                                               'education_collection',\n",
      "                                               'subjectof_collection',\n",
      "                                               'locatedat_collection',\n",
      "                                               'appearsin_collection',\n",
      "                                               'has_collection',\n",
      "                                               'oflength_collection'],\n",
      "                              'id': '1c3a5e56-c9f2-4bf7-84a8-9fd9e2aa530a'},\n",
      " 'Questionnaires': {'entity_types': ['studies',\n",
      "                                     'participants',\n",
      "                                     'questionnaires',\n",
      "                                     'questions',\n",
      "                                     'answers',\n",
      "                                     'addresses',\n",
      "                                     'responds_with',\n",
      "                                     'part_of',\n",
      "                                     'participated_in'],\n",
      "                    'id': '36b919d7-cf2b-426d-8ed2-ccfb4d985362'}}\n"
     ]
    }
   ],
   "source": [
    "pprint({x.title: {\"id\": x.id, \"entity_types\": [y.name for y in x.template]} for x in etcs})"
   ]
  },
  {
   "cell_type": "markdown",
   "metadata": {},
   "source": [
    "To query a specific EntityTypeCollection, you will need the id."
   ]
  },
  {
   "cell_type": "code",
   "execution_count": 17,
   "metadata": {},
   "outputs": [
    {
     "name": "stdout",
     "output_type": "stream",
     "text": [
      "{'description': 'Questionnaires EntityTypeCollection',\n",
      " 'id': '36b919d7-cf2b-426d-8ed2-ccfb4d985362',\n",
      " 'schemas': [],\n",
      " 'template': [{'description': 'A collection of all studies run with different '\n",
      "                              'questionnaires.',\n",
      "               'entity_type_id': '80c86a96-0e3f-46eb-9fbb-60d9174566a5',\n",
      "               'id': '57f21f1b-dbab-43e1-a199-ef7dd12c9c34',\n",
      "               'name': 'studies',\n",
      "               'title': 'Studies'},\n",
      "              {'description': 'Participants in different studies and '\n",
      "                              'questionnaires.',\n",
      "               'entity_type_id': '31cf5595-3fe9-4d3e-a9cf-39355a4b8cab',\n",
      "               'id': '252c2d61-9387-4153-9e12-93eb08ad28c7',\n",
      "               'name': 'participants',\n",
      "               'title': 'Participants'},\n",
      "              {'description': 'Different questionnaires as part of the '\n",
      "                              'studies.',\n",
      "               'entity_type_id': 'a5a5d8a0-4433-422c-b096-719b8c573f29',\n",
      "               'id': '355db194-3474-41e6-b2f7-1083baa254a8',\n",
      "               'name': 'questionnaires',\n",
      "               'title': 'Questionnaires'},\n",
      "              {'description': 'Questions asked in the questionnaires and their '\n",
      "                              'metadata.  These fields represent the columns '\n",
      "                              'of the output data.',\n",
      "               'entity_type_id': '94b57e93-7996-4769-9b6a-2df9ee676172',\n",
      "               'id': 'd1c51dc6-9bcd-45d1-a2c6-732ce1898e8f',\n",
      "               'name': 'questions',\n",
      "               'title': 'Questions'},\n",
      "              {'description': 'Answers provided to the questions asked.',\n",
      "               'entity_type_id': '7912f235-1959-4dd2-8a61-d85cd09b0c34',\n",
      "               'id': '8f615cb6-1aa0-4355-9c4b-0f2a63df3c07',\n",
      "               'name': 'answers',\n",
      "               'title': 'Answers'},\n",
      "              {'description': '',\n",
      "               'entity_type_id': '7d141486-07c7-4568-a3fc-6978d13818e5',\n",
      "               'id': '1d3b4158-e0cf-4f0a-b83e-b46265d74a4f',\n",
      "               'name': 'addresses',\n",
      "               'title': 'Addresses'},\n",
      "              {'description': '',\n",
      "               'entity_type_id': '4905e383-9c56-4ceb-9987-f8b1da30cae1',\n",
      "               'id': '9786d32d-351f-4798-8e81-cc7cda3067ea',\n",
      "               'name': 'responds_with',\n",
      "               'title': 'Responds With'},\n",
      "              {'description': '',\n",
      "               'entity_type_id': 'd9ccdae1-db25-40ad-9e9d-b2144fedb4bd',\n",
      "               'id': '741d563e-8872-476d-94e5-bdb3d557bf83',\n",
      "               'name': 'part_of',\n",
      "               'title': 'Part Of'},\n",
      "              {'description': '',\n",
      "               'entity_type_id': '34836b35-76b1-4ecf-b588-c22ad19e2378',\n",
      "               'id': 'f64b22d7-edcd-4843-901b-b9e4a372dc4a',\n",
      "               'name': 'participated_in',\n",
      "               'title': 'Participated In'}],\n",
      " 'title': 'Questionnaires',\n",
      " 'type': {'name': 'questionnaires', 'namespace': 'test'}}\n"
     ]
    }
   ],
   "source": [
    "etc_id = [x.id for x in etcs if x.title == \"Questionnaires\"][0]\n",
    "etc = collectionsApi.get_entity_type_collection(etc_id)\n",
    "pprint(etc)"
   ]
  },
  {
   "cell_type": "markdown",
   "metadata": {},
   "source": [
    "## Entity Set Collection\n",
    "\n",
    "Now that we went over creating and changing the EntityTypeCollection, which basically serves as a blueprint for a combination of EntityTypes, we can instantiate the entity set collection.\n",
    "\n",
    "Method | HTTP request | Description\n",
    "------------- | ------------- | -------------\n",
    "**create_entity_set_collection** | **POST** /datastore/collections/entity/set | Creates a new EntitySetCollection\n",
    "**delete_entity_set_collection** | **DELETE** /datastore/collections/entity/set/{entitySetCollectionId} | Deletes the specified EntitySetCollection\n",
    "**get_all_entity_set_collections** | **GET** /datastore/collections/entity/set | Returns all EntitySetCollection objects\n",
    "**get_entity_set_collection** | **GET** /datastore/collections/entity/set/{entitySetCollectionId} | Returns the EntitySetCollection object for a given id\n",
    "**get_entity_set_collections_of_type** | **GET** /datastore/collections/entity/type/entity/set/{entitySetCollectionId} | Returns all authorized EntitySetCollections for a given EntityTypeCollection id\n",
    "**update_entity_set_collection_metadata** | **PATCH** /datastore/collections/entity/set/{entitySetCollectionId} | Updates metadata of the specified EntitySetCollection\n",
    "**update_entity_set_collection_template** | **PATCH** /datastore/collections/entity/set/{entitySetCollectionId}/template | Updates template of the specified EntitySetCollection"
   ]
  },
  {
   "cell_type": "markdown",
   "metadata": {},
   "source": [
    "### Create an EntitySetCollection\n",
    "\n",
    "First, we create the EntitySetCollection metadata, and with that object create the EntitySetCollection.\n",
    "\n",
    "The `template`-argument is a mapping from `{collectionTemplateType: entitySetId}`.  If you already have existing entitySets that you want to add to the new EntitySetCollection, you can fill those in in the template argument.\n",
    "If you set this argument to an empty dictionary, all entitysets will be created."
   ]
  },
  {
   "cell_type": "code",
   "execution_count": 18,
   "metadata": {},
   "outputs": [],
   "source": [
    "esc = openlattice.EntitySetCollection(\n",
    "    title = \"My Test Questionnaires\",\n",
    "    name = \"my_test_questionnaires\",\n",
    "    description = \"A temporary EntitySetCollection around the test.questionnaire entityTypeCollection\",\n",
    "    entity_type_collection_id = etc_id,\n",
    "    contacts = [\"demo@openlattice.com\"],\n",
    "    organization_id = org_id, # demo organization\n",
    "    template = {}\n",
    ")"
   ]
  },
  {
   "cell_type": "code",
   "execution_count": 19,
   "metadata": {},
   "outputs": [],
   "source": [
    "# this can take a while\n",
    "esc_id = collectionsApi.create_entity_set_collection(esc)"
   ]
  },
  {
   "cell_type": "markdown",
   "metadata": {},
   "source": [
    "### Get an EntitySetCollection\n",
    "\n",
    "When querying the entitySetCollection, you can see that the `id` and `template` has been filled out.\n",
    "The template has a mapping of the templateCollection to the newly created EntitySets."
   ]
  },
  {
   "cell_type": "code",
   "execution_count": 20,
   "metadata": {},
   "outputs": [],
   "source": [
    "esc = collectionsApi.get_entity_set_collection(esc_id)"
   ]
  },
  {
   "cell_type": "code",
   "execution_count": 21,
   "metadata": {},
   "outputs": [
    {
     "data": {
      "text/plain": [
       "{'contacts': ['demo@openlattice.com'],\n",
       " 'description': 'A temporary EntitySetCollection around the test.questionnaire '\n",
       "                'entityTypeCollection',\n",
       " 'entity_type_collection_id': '36b919d7-cf2b-426d-8ed2-ccfb4d985362',\n",
       " 'id': '7ecab07a-a356-48db-8b76-47f727d30d0c',\n",
       " 'name': 'my_test_questionnaires',\n",
       " 'organization_id': '1d5aa1f4-4d22-46a5-97cd-dcc6820e7ff8',\n",
       " 'template': {'1d3b4158-e0cf-4f0a-b83e-b46265d74a4f': '5a901798-bb93-4e43-8fea-9008cbd5aa81',\n",
       "              '252c2d61-9387-4153-9e12-93eb08ad28c7': '88acff45-524c-4533-9cdf-3bc25601411b',\n",
       "              '355db194-3474-41e6-b2f7-1083baa254a8': 'a4bdd3a1-1af6-4d24-ac1b-f60a3a51a882',\n",
       "              '57f21f1b-dbab-43e1-a199-ef7dd12c9c34': '5e88be28-6061-4ca1-b8f8-0ce826d96ea9',\n",
       "              '741d563e-8872-476d-94e5-bdb3d557bf83': '3baaf5e8-c06c-47ac-a032-690769ce20f6',\n",
       "              '8f615cb6-1aa0-4355-9c4b-0f2a63df3c07': '523d7413-b08c-463f-8498-bc79ef052199',\n",
       "              '9786d32d-351f-4798-8e81-cc7cda3067ea': 'c0a44cd2-e116-4e2f-8881-92c90f01741c',\n",
       "              'd1c51dc6-9bcd-45d1-a2c6-732ce1898e8f': '2e49cfed-318b-4beb-8c0d-9b37eae9e3b6',\n",
       "              'f64b22d7-edcd-4843-901b-b9e4a372dc4a': '19a4de9f-a367-46ec-8cd4-0cefec205827'},\n",
       " 'title': 'My Test Questionnaires'}"
      ]
     },
     "execution_count": 21,
     "metadata": {},
     "output_type": "execute_result"
    }
   ],
   "source": [
    "esc"
   ]
  },
  {
   "cell_type": "markdown",
   "metadata": {},
   "source": [
    "Below we create a dictionary `transfo` that has a mapping from the CollectionTemplate to the entityTypeTitle.  This we can then use to find all parts of the EntitySetCollection."
   ]
  },
  {
   "cell_type": "code",
   "execution_count": 22,
   "metadata": {},
   "outputs": [],
   "source": [
    "transfo = {x.id: edmApi.get_entity_type(x.entity_type_id).title for x in etc.template}"
   ]
  },
  {
   "cell_type": "code",
   "execution_count": 23,
   "metadata": {},
   "outputs": [
    {
     "data": {
      "text/plain": [
       "{'Addresses (assn)': 'my_test_questionnaires_addresses',\n",
       " 'Question': 'my_test_questionnaires_questions',\n",
       " 'Participated in': 'my_test_questionnaires_participated_in',\n",
       " 'Questionnaire / Survey': 'my_test_questionnaires_questionnaires',\n",
       " 'Person': 'my_test_questionnaires_participants',\n",
       " 'Responds With': 'my_test_questionnaires_responds_with',\n",
       " 'Answer': 'my_test_questionnaires_answers',\n",
       " 'Part of': 'my_test_questionnaires_part_of',\n",
       " 'Study Data Collection Event': 'my_test_questionnaires_studies'}"
      ]
     },
     "execution_count": 23,
     "metadata": {},
     "output_type": "execute_result"
    }
   ],
   "source": [
    "{transfo[tmpl_id]: entitySetsApi.get_entity_set(es_id).name \\\n",
    "     for tmpl_id, es_id in esc.template.items()}"
   ]
  },
  {
   "cell_type": "markdown",
   "metadata": {},
   "source": [
    "### Get all entity set collections"
   ]
  },
  {
   "cell_type": "code",
   "execution_count": 24,
   "metadata": {},
   "outputs": [
    {
     "data": {
      "text/plain": [
       "{'7ecab07a-a356-48db-8b76-47f727d30d0c': 'My Test Questionnaires',\n",
       " 'adc75807-3f06-4cf3-b4b3-d91be7aab440': 'Demo data for Jail'}"
      ]
     },
     "execution_count": 24,
     "metadata": {},
     "output_type": "execute_result"
    }
   ],
   "source": [
    "escs = collectionsApi.get_all_entity_set_collections()\n",
    "{x.id: x.title for x in escs}"
   ]
  },
  {
   "cell_type": "markdown",
   "metadata": {},
   "source": [
    "### Get all entity sets of a certain type\n",
    "\n",
    "If we only want to see entity set collections of a certain type of entityTypeCollections, we can query only the specific entityTypeCollection."
   ]
  },
  {
   "cell_type": "code",
   "execution_count": 25,
   "metadata": {},
   "outputs": [
    {
     "data": {
      "text/plain": [
       "{'7ecab07a-a356-48db-8b76-47f727d30d0c': 'My Test Questionnaires'}"
      ]
     },
     "execution_count": 25,
     "metadata": {},
     "output_type": "execute_result"
    }
   ],
   "source": [
    "escs_type = collectionsApi.get_entity_set_collections_of_type(etc_id)\n",
    "{x.id: x.title for x in escs_type}"
   ]
  },
  {
   "cell_type": "markdown",
   "metadata": {},
   "source": [
    "### Updating EntitySetCollectionMetadata\n",
    "\n",
    "We can update the metadata of our EntitySetCollection like the with EntityTypeCollection."
   ]
  },
  {
   "cell_type": "code",
   "execution_count": 26,
   "metadata": {},
   "outputs": [],
   "source": [
    "new_description = \"Demo Questionnaires EntitySetCollection\"\n",
    "\n",
    "collectionsApi.update_entity_set_collection_metadata(\n",
    "    entity_set_collection_id = esc_id,\n",
    "    metadata_update = openlattice.MetadataUpdate(\n",
    "        description = new_description\n",
    "    )\n",
    ")"
   ]
  },
  {
   "cell_type": "code",
   "execution_count": 27,
   "metadata": {},
   "outputs": [
    {
     "data": {
      "text/plain": [
       "'Demo Questionnaires EntitySetCollection'"
      ]
     },
     "execution_count": 27,
     "metadata": {},
     "output_type": "execute_result"
    }
   ],
   "source": [
    "esc = collectionsApi.get_entity_set_collection(esc_id)\n",
    "esc.description"
   ]
  },
  {
   "cell_type": "markdown",
   "metadata": {},
   "source": [
    "### Changing EntitySets in the collection\n",
    "\n",
    "If you want to change a certain entity set in the collection, you can swap out entitysets.  For example, if we want to change the person-dataset with a new one, we can use this function.\n",
    "\n",
    "This will also be very relevant when new EntityTypes are added to the EntityTypeCollection.\n",
    "\n",
    "Below, we make a new entityset of type `general.person` and change and revert adding this entityset to the collection."
   ]
  },
  {
   "cell_type": "code",
   "execution_count": 28,
   "metadata": {},
   "outputs": [
    {
     "name": "stdout",
     "output_type": "stream",
     "text": [
      "deb1adf6-9f03-49bc-b2b1-0b0d53662f5d\n"
     ]
    }
   ],
   "source": [
    "es = openlattice.EntitySet(\n",
    "    organization_id = org_id,\n",
    "    entity_type_id = edmApi.get_entity_type_id(\n",
    "        namespace = \"general\", \n",
    "        name = \"person\"),\n",
    "    name = \"temporary_entity_set\",\n",
    "    title = \"A Temporary Entity Set for Demo Purposes\",\n",
    "    contacts = ['demo@openlattice.com']\n",
    ")\n",
    "\n",
    "entitySetsApi.create_entity_sets([es])\n",
    "es_id = entitySetsApi.get_entity_set_id(es.name)\n",
    "print(es_id)"
   ]
  },
  {
   "cell_type": "markdown",
   "metadata": {},
   "source": [
    "To know which part of the collection we want to change, we need to dig into the entityTypeCollection and find the id for the `general.person`-part.  If you have multiple of the same entityType in the same collection, you probably want to do some manual intervention."
   ]
  },
  {
   "cell_type": "code",
   "execution_count": 29,
   "metadata": {},
   "outputs": [],
   "source": [
    "etc = collectionsApi.get_entity_type_collection(etc_id)"
   ]
  },
  {
   "cell_type": "code",
   "execution_count": 30,
   "metadata": {},
   "outputs": [
    {
     "name": "stdout",
     "output_type": "stream",
     "text": [
      "252c2d61-9387-4153-9e12-93eb08ad28c7\n"
     ]
    }
   ],
   "source": [
    "person_id = [x.id for x in etc.template if x.name == 'participants'][0]\n",
    "print(person_id)"
   ]
  },
  {
   "cell_type": "code",
   "execution_count": 31,
   "metadata": {},
   "outputs": [],
   "source": [
    "collectionsApi.update_entity_set_collection_template(\n",
    "    esc_id, \n",
    "    request_body = {person_id: es_id}\n",
    ")"
   ]
  },
  {
   "cell_type": "markdown",
   "metadata": {},
   "source": [
    "Now if we look at the entity set collection, we can see that this entityset is now in the collection."
   ]
  },
  {
   "cell_type": "code",
   "execution_count": 32,
   "metadata": {},
   "outputs": [],
   "source": [
    "esc = collectionsApi.get_entity_set_collection(esc_id)"
   ]
  },
  {
   "cell_type": "code",
   "execution_count": 33,
   "metadata": {},
   "outputs": [
    {
     "data": {
      "text/plain": [
       "['my_test_questionnaires_addresses',\n",
       " 'my_test_questionnaires_questions',\n",
       " 'my_test_questionnaires_participated_in',\n",
       " 'my_test_questionnaires_questionnaires',\n",
       " 'temporary_entity_set',\n",
       " 'my_test_questionnaires_responds_with',\n",
       " 'my_test_questionnaires_answers',\n",
       " 'my_test_questionnaires_part_of',\n",
       " 'my_test_questionnaires_studies']"
      ]
     },
     "execution_count": 33,
     "metadata": {},
     "output_type": "execute_result"
    }
   ],
   "source": [
    "[entitySetsApi.get_entity_set(v).name for k,v in esc.template.items()]"
   ]
  },
  {
   "cell_type": "markdown",
   "metadata": {},
   "source": [
    "## Clean up\n",
    "\n",
    "In the last part, we will clean up whatever new stuff we made.\n",
    "\n",
    "**5.1. Undo swapping out entity set and remove temp entity set**"
   ]
  },
  {
   "cell_type": "code",
   "execution_count": 34,
   "metadata": {},
   "outputs": [],
   "source": [
    "old_esid = entitySetsApi.get_entity_set_id(\"my_test_questionnaires_participants\")\n",
    "\n",
    "collectionsApi.update_entity_set_collection_template(\n",
    "    esc_id, \n",
    "    request_body = {person_id: old_esid}\n",
    ")\n",
    "\n",
    "entitySetsApi.delete_entity_set(es_id)"
   ]
  },
  {
   "cell_type": "markdown",
   "metadata": {},
   "source": [
    "**5.2. Get latest entity set collection and remove all entity sets**"
   ]
  },
  {
   "cell_type": "code",
   "execution_count": 35,
   "metadata": {},
   "outputs": [],
   "source": [
    "esc = collectionsApi.get_entity_set_collection(esc_id)"
   ]
  },
  {
   "cell_type": "code",
   "execution_count": 36,
   "metadata": {},
   "outputs": [],
   "source": [
    "for es_id in esc.template.values():\n",
    "    entitySetsApi.delete_entity_set(es_id)"
   ]
  },
  {
   "cell_type": "markdown",
   "metadata": {},
   "source": [
    "**5.3. Remove entity set collection**"
   ]
  },
  {
   "cell_type": "code",
   "execution_count": 37,
   "metadata": {},
   "outputs": [],
   "source": [
    "collectionsApi.delete_entity_set_collection(esc_id)"
   ]
  },
  {
   "cell_type": "markdown",
   "metadata": {},
   "source": [
    "**5.4. Remove entity type collection**"
   ]
  },
  {
   "cell_type": "code",
   "execution_count": 38,
   "metadata": {},
   "outputs": [],
   "source": [
    "collectionsApi.delete_entity_type_collection(etc_id)"
   ]
  }
 ],
 "metadata": {
  "kernelspec": {
   "display_name": "Python 3",
   "language": "python",
   "name": "python3"
  },
  "language_info": {
   "codemirror_mode": {
    "name": "ipython",
    "version": 3
   },
   "file_extension": ".py",
   "mimetype": "text/x-python",
   "name": "python",
   "nbconvert_exporter": "python",
   "pygments_lexer": "ipython3",
   "version": "3.6.7"
  },
  "toc": {
   "base_numbering": 1,
   "nav_menu": {},
   "number_sections": true,
   "sideBar": true,
   "skip_h1_title": true,
   "title_cell": "Table of Contents",
   "title_sidebar": "Contents",
   "toc_cell": false,
   "toc_position": {
    "height": "calc(100% - 180px)",
    "left": "10px",
    "top": "150px",
    "width": "349.549px"
   },
   "toc_section_display": true,
   "toc_window_display": true
  }
 },
 "nbformat": 4,
 "nbformat_minor": 2
}
