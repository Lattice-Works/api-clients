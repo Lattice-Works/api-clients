{
 "cells": [
  {
   "cell_type": "markdown",
   "metadata": {},
   "source": [
    "# Filtered searches\n",
    "\n",
    "This tutorial walks through how to do filtered searches via the API. This is useful if you want to find specific parts of the data, especially if the dataset is large. Here, I will be testing on a small dataset for the purposes of this tutorial. This dataset is from deleting entity sets tutorial.\n",
    "\n",
    "## Configurations"
   ]
  },
  {
   "cell_type": "code",
   "execution_count": 6,
   "metadata": {},
   "outputs": [],
   "source": [
    "import openlattice\n",
    "import olpy"
   ]
  },
  {
   "cell_type": "code",
   "execution_count": 12,
   "metadata": {},
   "outputs": [],
   "source": [
    "baseurl = 'https://api.openlattice.com'\n",
    "\n",
    "configuration = openlattice.Configuration()\n",
    "configuration.host = baseurl\n",
    "configuration.access_token = olpy.get_jwt(base_url = configuration.host)\n",
    "\n",
    "edmAPI = openlattice.EdmApi(openlattice.ApiClient(configuration))\n",
    "entitySetsAPI = openlattice.EntitySetsApi(openlattice.ApiClient(configuration))\n",
    "permissionsAPI = openlattice.PermissionsApi(openlattice.ApiClient(configuration))\n",
    "dataAPI = openlattice.DataApi(openlattice.ApiClient(configuration))\n",
    "integrationAPI = openlattice.DataIntegrationsApi(openlattice.ApiClient(configuration))\n",
    "orgAPI = openlattice.OrganizationsApi(openlattice.ApiClient(configuration))\n",
    "searchAPI = openlattice.SearchApi(openlattice.ApiClient(configuration))"
   ]
  },
  {
   "cell_type": "code",
   "execution_count": 10,
   "metadata": {},
   "outputs": [
    {
     "data": {
      "text/plain": [
       "[{'nc.SubjectIdentification': ['Child1'],\n",
       "  'openlattice.@id': ['24220000-0000-0000-8000-00000001f3aa']},\n",
       " {'nc.SubjectIdentification': ['Woman2'],\n",
       "  'openlattice.@id': ['260a0000-0000-0000-8000-00000001e2a1']},\n",
       " {'nc.SubjectIdentification': ['Child2'],\n",
       "  'openlattice.@id': ['26140000-0000-0000-8000-00000001f19f']},\n",
       " {'nc.SubjectIdentification': ['Woman1'],\n",
       "  'openlattice.@id': ['25fc0000-0000-0000-8000-00000001e3e2']}]"
      ]
     },
     "execution_count": 10,
     "metadata": {},
     "output_type": "execute_result"
    }
   ],
   "source": [
    "entitysetid = '0f898abd-edfe-4212-8642-74db49efa474'\n",
    "data = dataAPI.load_entity_set_data(entitysetid)\n",
    "data"
   ]
  },
  {
   "cell_type": "markdown",
   "metadata": {},
   "source": [
    "This dataset is small enough to pull everything all at once, but for the purposes of this exercise, let's filter the dataset on `Woman1`  _without_ first loading everything. To do so, you will use search constraints, as shown in the code below.\n",
    "\n",
    "Note: There is a way to do fuzzy searches, but unfortunately I haven't been able to figure it out yet. This search is mostly useful for searching a specific category of a property."
   ]
  },
  {
   "cell_type": "code",
   "execution_count": 32,
   "metadata": {},
   "outputs": [
    {
     "data": {
      "text/plain": [
       "[{'nc.SubjectIdentification': ['Woman1'],\n",
       "  'openlattice.@id': ['25fc0000-0000-0000-8000-00000001e3e2'],\n",
       "  'openlattice.@lastWrite': ['2021-01-18T17:03:58.737172Z']}]"
      ]
     },
     "execution_count": 32,
     "metadata": {},
     "output_type": "execute_result"
    }
   ],
   "source": [
    "propertytypeid = edmAPI.get_property_type_id(namespace = \"nc\", name = \"SubjectIdentification\")\n",
    "condition = \"Woman1\"\n",
    "\n",
    "search_str = f\"entity.{propertytypeid}: '{condition}'\"\n",
    "\n",
    "constraint1 = openlattice.Constraint(\n",
    "    type=\"simple\",\n",
    "    search_term=search_str,\n",
    "    fuzzy=False\n",
    ")\n",
    "\n",
    "constraints = [constraint1]\n",
    "\n",
    "constraintgroup = openlattice.ConstraintGroup(\n",
    "    min = len(constraints),\n",
    "    constraints = constraints\n",
    ")\n",
    "\n",
    "\n",
    "constraints = openlattice.SearchConstraints(\n",
    "    entity_set_ids = [entitysetid],\n",
    "    start = 0,\n",
    "    max_hits = 10000,\n",
    "    constraints = [constraintgroup]\n",
    ")\n",
    "\n",
    "results = searchAPI.search_entity_set_data(constraints)\n",
    "\n",
    "results.hits"
   ]
  },
  {
   "cell_type": "markdown",
   "metadata": {},
   "source": [
    "You can also search between certain dates. For example, one useful metadata is to look for the last write time. (Note, the following code will return the whole dataset, since I wrote them all at once)."
   ]
  },
  {
   "cell_type": "code",
   "execution_count": 33,
   "metadata": {},
   "outputs": [
    {
     "data": {
      "text/plain": [
       "[{'nc.SubjectIdentification': ['Woman1'],\n",
       "  'openlattice.@id': ['25fc0000-0000-0000-8000-00000001e3e2'],\n",
       "  'openlattice.@lastWrite': ['2021-01-18T17:03:58.737172Z']},\n",
       " {'nc.SubjectIdentification': ['Child1'],\n",
       "  'openlattice.@id': ['24220000-0000-0000-8000-00000001f3aa'],\n",
       "  'openlattice.@lastWrite': ['2021-01-18T17:03:58.738098Z']},\n",
       " {'nc.SubjectIdentification': ['Woman2'],\n",
       "  'openlattice.@id': ['260a0000-0000-0000-8000-00000001e2a1'],\n",
       "  'openlattice.@lastWrite': ['2021-01-18T17:03:58.732095Z']},\n",
       " {'nc.SubjectIdentification': ['Child2'],\n",
       "  'openlattice.@id': ['26140000-0000-0000-8000-00000001f19f'],\n",
       "  'openlattice.@lastWrite': ['2021-01-18T17:03:58.733039Z']}]"
      ]
     },
     "execution_count": 33,
     "metadata": {},
     "output_type": "execute_result"
    }
   ],
   "source": [
    "import dateutil\n",
    "\n",
    "starttime = dateutil.parser.parse(\"2021-01-15T16:00:00-08:00\")\n",
    "endtime = dateutil.parser.parse(\"2021-01-19T16:00:00-08:00\")\n",
    "\n",
    "constraint2 = openlattice.Constraint(\n",
    "    type = 'writeDateTimeFilter',\n",
    "    start = starttime.isoformat(),\n",
    "    end = endtime.isoformat())\n",
    "\n",
    "constraints = [constraint2]\n",
    "\n",
    "constraintgroup = openlattice.ConstraintGroup(\n",
    "    min = len(constraints),\n",
    "    constraints = constraints\n",
    ")\n",
    "\n",
    "\n",
    "constraints = openlattice.SearchConstraints(\n",
    "    entity_set_ids = [entitysetid],\n",
    "    start = 0,\n",
    "    max_hits = 10000,\n",
    "    constraints = [constraintgroup]\n",
    ")\n",
    "\n",
    "results = searchAPI.search_entity_set_data(constraints)\n",
    "\n",
    "results.hits"
   ]
  },
  {
   "cell_type": "markdown",
   "metadata": {},
   "source": [
    "You can search both at once like this:"
   ]
  },
  {
   "cell_type": "code",
   "execution_count": 34,
   "metadata": {},
   "outputs": [
    {
     "data": {
      "text/plain": [
       "[{'nc.SubjectIdentification': ['Woman1'],\n",
       "  'openlattice.@id': ['25fc0000-0000-0000-8000-00000001e3e2'],\n",
       "  'openlattice.@lastWrite': ['2021-01-18T17:03:58.737172Z']}]"
      ]
     },
     "execution_count": 34,
     "metadata": {},
     "output_type": "execute_result"
    }
   ],
   "source": [
    "constraints = [constraint1, constraint2]\n",
    "\n",
    "constraintgroup = openlattice.ConstraintGroup(\n",
    "    min = len(constraints),\n",
    "    constraints = constraints\n",
    ")\n",
    "\n",
    "\n",
    "constraints = openlattice.SearchConstraints(\n",
    "    entity_set_ids = [entitysetid],\n",
    "    start = 0,\n",
    "    max_hits = 10000,\n",
    "    constraints = [constraintgroup]\n",
    ")\n",
    "\n",
    "results = searchAPI.search_entity_set_data(constraints)\n",
    "\n",
    "results.hits"
   ]
  },
  {
   "cell_type": "markdown",
   "metadata": {},
   "source": [
    "Note - our API can only handle 10k hits at a time. To search through more, you can try working with a while loop. Our [Chronicle job](https://github.com/openlattice/chronicle-processor/blob/master/utils/chronicle_processor.py#L10) searches via a while loop over dates. Alternatively, if it's too large, [assembled views](https://help.openlattice.com/article/95-integrated-data-viewing-and-joining-tables) may be a better method."
   ]
  },
  {
   "cell_type": "code",
   "execution_count": null,
   "metadata": {},
   "outputs": [],
   "source": []
  }
 ],
 "metadata": {
  "kernelspec": {
   "display_name": "Python 3",
   "language": "python",
   "name": "python3"
  },
  "language_info": {
   "codemirror_mode": {
    "name": "ipython",
    "version": 3
   },
   "file_extension": ".py",
   "mimetype": "text/x-python",
   "name": "python",
   "nbconvert_exporter": "python",
   "pygments_lexer": "ipython3",
   "version": "3.7.6"
  }
 },
 "nbformat": 4,
 "nbformat_minor": 4
}
