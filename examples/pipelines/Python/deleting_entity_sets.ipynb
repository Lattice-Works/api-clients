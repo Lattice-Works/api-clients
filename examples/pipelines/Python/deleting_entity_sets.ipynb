{
 "cells": [
  {
   "cell_type": "markdown",
   "metadata": {},
   "source": [
    "# Deleting entity sets\n",
    "\n",
    "(Tutorial adapted from Joke Durnez)\n",
    "\n",
    "In this notebook, we will:\n",
    "\n",
    "1. Create an entity set\n",
    "2. Add a few datapoints to the entity set (these functions are unstable at this point)\n",
    "3. Select entity keys based on a condition, i.e. does the primary key contain the word \"Woman\"\n",
    "4. Delete those entities\n",
    "5. Delete all entities in the entity set\n",
    "6. Delete the entity set\n",
    "\n",
    "To follow along, you will need to install [olpy](https://github.com/openlattice/olpy) and [openlattice](https://github.com/Lattice-Works/api-clients/tree/master/python). [This](https://help.openlattice.com/article/104-overview-and-installation-of-api-clients) is a detailed setup instructions for setting up the openlattice module.\n",
    "\n",
    "## Set up"
   ]
  },
  {
   "cell_type": "code",
   "execution_count": 1,
   "metadata": {},
   "outputs": [],
   "source": [
    "import openlattice\n",
    "import olpy\n",
    "import pandas as pd\n",
    "import numpy as np\n",
    "from collections import Counter\n",
    "from pprint import pprint\n",
    "import uuid"
   ]
  },
  {
   "cell_type": "code",
   "execution_count": 2,
   "metadata": {},
   "outputs": [],
   "source": [
    "baseurl = 'https://api.openlattice.com'\n",
    "\n",
    "configuration = openlattice.Configuration()\n",
    "configuration.host = baseurl\n",
    "configuration.access_token = olpy.get_jwt(base_url = configuration.host)\n",
    "\n",
    "edmAPI = openlattice.EdmApi(openlattice.ApiClient(configuration))\n",
    "entitySetsAPI = openlattice.EntitySetsApi(openlattice.ApiClient(configuration))\n",
    "permissionsAPI = openlattice.PermissionsApi(openlattice.ApiClient(configuration))\n",
    "dataAPI = openlattice.DataApi(openlattice.ApiClient(configuration))\n",
    "integrationAPI = openlattice.DataIntegrationsApi(openlattice.ApiClient(configuration))\n",
    "orgAPI = openlattice.OrganizationsApi(openlattice.ApiClient(configuration))"
   ]
  },
  {
   "cell_type": "markdown",
   "metadata": {},
   "source": [
    "## 1. Create entity set\n",
    "\n",
    "First create the entity set and get the entity set ID. To find the organization Id, go to the [Orgs App](https://staging.openlattice.com/orgs/#/orgs) and find your desired organization. Then, go to database details within the organization. You should be able to see the organization ID there."
   ]
  },
  {
   "cell_type": "code",
   "execution_count": 3,
   "metadata": {},
   "outputs": [
    {
     "ename": "ApiException",
     "evalue": "(500)\nReason: Server Error\nHTTP response headers: HTTPHeaderDict({'Date': 'Wed, 20 Jan 2021 21:19:32 GMT', 'Content-Type': 'application/json;charset=utf-8', 'Transfer-Encoding': 'chunked', 'Connection': 'keep-alive', 'Server': 'nginx/1.18.0 (Ubuntu)', 'X-Content-Type-Options': 'nosniff', 'X-XSS-Protection': '1; mode=block', 'Cache-Control': 'no-cache, no-store, max-age=0, must-revalidate', 'Pragma': 'no-cache', 'Expires': '0', 'X-Frame-Options': 'DENY', 'Strict-Transport-Security': 'max-age=31536000'})\nHTTP response body: {\"errors\":[{\"error\":{},\"message\":\"Test12345: Type Test12345 already exists.\"}]}\n",
     "output_type": "error",
     "traceback": [
      "\u001b[0;31m---------------------------------------------------------------------------\u001b[0m",
      "\u001b[0;31mApiException\u001b[0m                              Traceback (most recent call last)",
      "\u001b[0;32m<ipython-input-3-16e25f2f17f1>\u001b[0m in \u001b[0;36m<module>\u001b[0;34m\u001b[0m\n\u001b[1;32m     10\u001b[0m     }\n\u001b[1;32m     11\u001b[0m \u001b[0;34m\u001b[0m\u001b[0m\n\u001b[0;32m---> 12\u001b[0;31m \u001b[0mentitySetsAPI\u001b[0m\u001b[0;34m.\u001b[0m\u001b[0mcreate_entity_sets\u001b[0m\u001b[0;34m(\u001b[0m\u001b[0mentity_set\u001b[0m\u001b[0;34m=\u001b[0m\u001b[0;34m[\u001b[0m\u001b[0mentset\u001b[0m\u001b[0;34m]\u001b[0m\u001b[0;34m)\u001b[0m\u001b[0;34m\u001b[0m\u001b[0;34m\u001b[0m\u001b[0m\n\u001b[0m",
      "\u001b[0;32m/opt/anaconda3/lib/python3.7/site-packages/openlattice-0.1.0-py3.7.egg/openlattice/api/entity_sets_api.py\u001b[0m in \u001b[0;36mcreate_entity_sets\u001b[0;34m(self, entity_set, **kwargs)\u001b[0m\n\u001b[1;32m    349\u001b[0m         \"\"\"\n\u001b[1;32m    350\u001b[0m         \u001b[0mkwargs\u001b[0m\u001b[0;34m[\u001b[0m\u001b[0;34m'_return_http_data_only'\u001b[0m\u001b[0;34m]\u001b[0m \u001b[0;34m=\u001b[0m \u001b[0;32mTrue\u001b[0m\u001b[0;34m\u001b[0m\u001b[0;34m\u001b[0m\u001b[0m\n\u001b[0;32m--> 351\u001b[0;31m         \u001b[0;32mreturn\u001b[0m \u001b[0mself\u001b[0m\u001b[0;34m.\u001b[0m\u001b[0mcreate_entity_sets_with_http_info\u001b[0m\u001b[0;34m(\u001b[0m\u001b[0mentity_set\u001b[0m\u001b[0;34m,\u001b[0m \u001b[0;34m**\u001b[0m\u001b[0mkwargs\u001b[0m\u001b[0;34m)\u001b[0m  \u001b[0;31m# noqa: E501\u001b[0m\u001b[0;34m\u001b[0m\u001b[0;34m\u001b[0m\u001b[0m\n\u001b[0m\u001b[1;32m    352\u001b[0m \u001b[0;34m\u001b[0m\u001b[0m\n\u001b[1;32m    353\u001b[0m     \u001b[0;32mdef\u001b[0m \u001b[0mcreate_entity_sets_with_http_info\u001b[0m\u001b[0;34m(\u001b[0m\u001b[0mself\u001b[0m\u001b[0;34m,\u001b[0m \u001b[0mentity_set\u001b[0m\u001b[0;34m,\u001b[0m \u001b[0;34m**\u001b[0m\u001b[0mkwargs\u001b[0m\u001b[0;34m)\u001b[0m\u001b[0;34m:\u001b[0m  \u001b[0;31m# noqa: E501\u001b[0m\u001b[0;34m\u001b[0m\u001b[0;34m\u001b[0m\u001b[0m\n",
      "\u001b[0;32m/opt/anaconda3/lib/python3.7/site-packages/openlattice-0.1.0-py3.7.egg/openlattice/api/entity_sets_api.py\u001b[0m in \u001b[0;36mcreate_entity_sets_with_http_info\u001b[0;34m(self, entity_set, **kwargs)\u001b[0m\n\u001b[1;32m    449\u001b[0m             \u001b[0m_request_timeout\u001b[0m\u001b[0;34m=\u001b[0m\u001b[0mlocal_var_params\u001b[0m\u001b[0;34m.\u001b[0m\u001b[0mget\u001b[0m\u001b[0;34m(\u001b[0m\u001b[0;34m'_request_timeout'\u001b[0m\u001b[0;34m)\u001b[0m\u001b[0;34m,\u001b[0m\u001b[0;34m\u001b[0m\u001b[0;34m\u001b[0m\u001b[0m\n\u001b[1;32m    450\u001b[0m             \u001b[0mcollection_formats\u001b[0m\u001b[0;34m=\u001b[0m\u001b[0mcollection_formats\u001b[0m\u001b[0;34m,\u001b[0m\u001b[0;34m\u001b[0m\u001b[0;34m\u001b[0m\u001b[0m\n\u001b[0;32m--> 451\u001b[0;31m             _request_auth=local_var_params.get('_request_auth'))\n\u001b[0m\u001b[1;32m    452\u001b[0m \u001b[0;34m\u001b[0m\u001b[0m\n\u001b[1;32m    453\u001b[0m     \u001b[0;32mdef\u001b[0m \u001b[0mdelete_entity_set\u001b[0m\u001b[0;34m(\u001b[0m\u001b[0mself\u001b[0m\u001b[0;34m,\u001b[0m \u001b[0mentity_set_id\u001b[0m\u001b[0;34m,\u001b[0m \u001b[0;34m**\u001b[0m\u001b[0mkwargs\u001b[0m\u001b[0;34m)\u001b[0m\u001b[0;34m:\u001b[0m  \u001b[0;31m# noqa: E501\u001b[0m\u001b[0;34m\u001b[0m\u001b[0;34m\u001b[0m\u001b[0m\n",
      "\u001b[0;32m/opt/anaconda3/lib/python3.7/site-packages/openlattice-0.1.0-py3.7.egg/openlattice/api_client.py\u001b[0m in \u001b[0;36mcall_api\u001b[0;34m(self, resource_path, method, path_params, query_params, header_params, body, post_params, files, response_type, auth_settings, async_req, _return_http_data_only, collection_formats, _preload_content, _request_timeout, _host, _request_auth)\u001b[0m\n\u001b[1;32m    377\u001b[0m                                    \u001b[0m_return_http_data_only\u001b[0m\u001b[0;34m,\u001b[0m \u001b[0mcollection_formats\u001b[0m\u001b[0;34m,\u001b[0m\u001b[0;34m\u001b[0m\u001b[0;34m\u001b[0m\u001b[0m\n\u001b[1;32m    378\u001b[0m                                    \u001b[0m_preload_content\u001b[0m\u001b[0;34m,\u001b[0m \u001b[0m_request_timeout\u001b[0m\u001b[0;34m,\u001b[0m \u001b[0m_host\u001b[0m\u001b[0;34m,\u001b[0m\u001b[0;34m\u001b[0m\u001b[0;34m\u001b[0m\u001b[0m\n\u001b[0;32m--> 379\u001b[0;31m                                    _request_auth)\n\u001b[0m\u001b[1;32m    380\u001b[0m \u001b[0;34m\u001b[0m\u001b[0m\n\u001b[1;32m    381\u001b[0m         return self.pool.apply_async(self.__call_api, (resource_path,\n",
      "\u001b[0;32m/opt/anaconda3/lib/python3.7/site-packages/openlattice-0.1.0-py3.7.egg/openlattice/api_client.py\u001b[0m in \u001b[0;36m__call_api\u001b[0;34m(self, resource_path, method, path_params, query_params, header_params, body, post_params, files, response_type, auth_settings, _return_http_data_only, collection_formats, _preload_content, _request_timeout, _host, _request_auth)\u001b[0m\n\u001b[1;32m    190\u001b[0m         \u001b[0;32mexcept\u001b[0m \u001b[0mApiException\u001b[0m \u001b[0;32mas\u001b[0m \u001b[0me\u001b[0m\u001b[0;34m:\u001b[0m\u001b[0;34m\u001b[0m\u001b[0;34m\u001b[0m\u001b[0m\n\u001b[1;32m    191\u001b[0m             \u001b[0me\u001b[0m\u001b[0;34m.\u001b[0m\u001b[0mbody\u001b[0m \u001b[0;34m=\u001b[0m \u001b[0me\u001b[0m\u001b[0;34m.\u001b[0m\u001b[0mbody\u001b[0m\u001b[0;34m.\u001b[0m\u001b[0mdecode\u001b[0m\u001b[0;34m(\u001b[0m\u001b[0;34m'utf-8'\u001b[0m\u001b[0;34m)\u001b[0m \u001b[0;32mif\u001b[0m \u001b[0msix\u001b[0m\u001b[0;34m.\u001b[0m\u001b[0mPY3\u001b[0m \u001b[0;32melse\u001b[0m \u001b[0me\u001b[0m\u001b[0;34m.\u001b[0m\u001b[0mbody\u001b[0m\u001b[0;34m\u001b[0m\u001b[0;34m\u001b[0m\u001b[0m\n\u001b[0;32m--> 192\u001b[0;31m             \u001b[0;32mraise\u001b[0m \u001b[0me\u001b[0m\u001b[0;34m\u001b[0m\u001b[0;34m\u001b[0m\u001b[0m\n\u001b[0m\u001b[1;32m    193\u001b[0m \u001b[0;34m\u001b[0m\u001b[0m\n\u001b[1;32m    194\u001b[0m         \u001b[0mcontent_type\u001b[0m \u001b[0;34m=\u001b[0m \u001b[0mresponse_data\u001b[0m\u001b[0;34m.\u001b[0m\u001b[0mgetheader\u001b[0m\u001b[0;34m(\u001b[0m\u001b[0;34m'content-type'\u001b[0m\u001b[0;34m)\u001b[0m\u001b[0;34m\u001b[0m\u001b[0;34m\u001b[0m\u001b[0m\n",
      "\u001b[0;32m/opt/anaconda3/lib/python3.7/site-packages/openlattice-0.1.0-py3.7.egg/openlattice/api_client.py\u001b[0m in \u001b[0;36m__call_api\u001b[0;34m(self, resource_path, method, path_params, query_params, header_params, body, post_params, files, response_type, auth_settings, _return_http_data_only, collection_formats, _preload_content, _request_timeout, _host, _request_auth)\u001b[0m\n\u001b[1;32m    187\u001b[0m                 \u001b[0mpost_params\u001b[0m\u001b[0;34m=\u001b[0m\u001b[0mpost_params\u001b[0m\u001b[0;34m,\u001b[0m \u001b[0mbody\u001b[0m\u001b[0;34m=\u001b[0m\u001b[0mbody\u001b[0m\u001b[0;34m,\u001b[0m\u001b[0;34m\u001b[0m\u001b[0;34m\u001b[0m\u001b[0m\n\u001b[1;32m    188\u001b[0m                 \u001b[0m_preload_content\u001b[0m\u001b[0;34m=\u001b[0m\u001b[0m_preload_content\u001b[0m\u001b[0;34m,\u001b[0m\u001b[0;34m\u001b[0m\u001b[0;34m\u001b[0m\u001b[0m\n\u001b[0;32m--> 189\u001b[0;31m                 _request_timeout=_request_timeout)\n\u001b[0m\u001b[1;32m    190\u001b[0m         \u001b[0;32mexcept\u001b[0m \u001b[0mApiException\u001b[0m \u001b[0;32mas\u001b[0m \u001b[0me\u001b[0m\u001b[0;34m:\u001b[0m\u001b[0;34m\u001b[0m\u001b[0;34m\u001b[0m\u001b[0m\n\u001b[1;32m    191\u001b[0m             \u001b[0me\u001b[0m\u001b[0;34m.\u001b[0m\u001b[0mbody\u001b[0m \u001b[0;34m=\u001b[0m \u001b[0me\u001b[0m\u001b[0;34m.\u001b[0m\u001b[0mbody\u001b[0m\u001b[0;34m.\u001b[0m\u001b[0mdecode\u001b[0m\u001b[0;34m(\u001b[0m\u001b[0;34m'utf-8'\u001b[0m\u001b[0;34m)\u001b[0m \u001b[0;32mif\u001b[0m \u001b[0msix\u001b[0m\u001b[0;34m.\u001b[0m\u001b[0mPY3\u001b[0m \u001b[0;32melse\u001b[0m \u001b[0me\u001b[0m\u001b[0;34m.\u001b[0m\u001b[0mbody\u001b[0m\u001b[0;34m\u001b[0m\u001b[0;34m\u001b[0m\u001b[0m\n",
      "\u001b[0;32m/opt/anaconda3/lib/python3.7/site-packages/openlattice-0.1.0-py3.7.egg/openlattice/api_client.py\u001b[0m in \u001b[0;36mrequest\u001b[0;34m(self, method, url, query_params, headers, post_params, body, _preload_content, _request_timeout)\u001b[0m\n\u001b[1;32m    421\u001b[0m                                          \u001b[0m_preload_content\u001b[0m\u001b[0;34m=\u001b[0m\u001b[0m_preload_content\u001b[0m\u001b[0;34m,\u001b[0m\u001b[0;34m\u001b[0m\u001b[0;34m\u001b[0m\u001b[0m\n\u001b[1;32m    422\u001b[0m                                          \u001b[0m_request_timeout\u001b[0m\u001b[0;34m=\u001b[0m\u001b[0m_request_timeout\u001b[0m\u001b[0;34m,\u001b[0m\u001b[0;34m\u001b[0m\u001b[0;34m\u001b[0m\u001b[0m\n\u001b[0;32m--> 423\u001b[0;31m                                          body=body)\n\u001b[0m\u001b[1;32m    424\u001b[0m         \u001b[0;32melif\u001b[0m \u001b[0mmethod\u001b[0m \u001b[0;34m==\u001b[0m \u001b[0;34m\"PUT\"\u001b[0m\u001b[0;34m:\u001b[0m\u001b[0;34m\u001b[0m\u001b[0;34m\u001b[0m\u001b[0m\n\u001b[1;32m    425\u001b[0m             return self.rest_client.PUT(url,\n",
      "\u001b[0;32m/opt/anaconda3/lib/python3.7/site-packages/openlattice-0.1.0-py3.7.egg/openlattice/rest.py\u001b[0m in \u001b[0;36mPOST\u001b[0;34m(self, url, headers, query_params, post_params, body, _preload_content, _request_timeout)\u001b[0m\n\u001b[1;32m    270\u001b[0m                             \u001b[0m_preload_content\u001b[0m\u001b[0;34m=\u001b[0m\u001b[0m_preload_content\u001b[0m\u001b[0;34m,\u001b[0m\u001b[0;34m\u001b[0m\u001b[0;34m\u001b[0m\u001b[0m\n\u001b[1;32m    271\u001b[0m                             \u001b[0m_request_timeout\u001b[0m\u001b[0;34m=\u001b[0m\u001b[0m_request_timeout\u001b[0m\u001b[0;34m,\u001b[0m\u001b[0;34m\u001b[0m\u001b[0;34m\u001b[0m\u001b[0m\n\u001b[0;32m--> 272\u001b[0;31m                             body=body)\n\u001b[0m\u001b[1;32m    273\u001b[0m \u001b[0;34m\u001b[0m\u001b[0m\n\u001b[1;32m    274\u001b[0m     def PUT(self, url, headers=None, query_params=None, post_params=None,\n",
      "\u001b[0;32m/opt/anaconda3/lib/python3.7/site-packages/openlattice-0.1.0-py3.7.egg/openlattice/rest.py\u001b[0m in \u001b[0;36mrequest\u001b[0;34m(self, method, url, query_params, headers, body, post_params, _preload_content, _request_timeout)\u001b[0m\n\u001b[1;32m    223\u001b[0m \u001b[0;34m\u001b[0m\u001b[0m\n\u001b[1;32m    224\u001b[0m         \u001b[0;32mif\u001b[0m \u001b[0;32mnot\u001b[0m \u001b[0;36m200\u001b[0m \u001b[0;34m<=\u001b[0m \u001b[0mr\u001b[0m\u001b[0;34m.\u001b[0m\u001b[0mstatus\u001b[0m \u001b[0;34m<=\u001b[0m \u001b[0;36m299\u001b[0m\u001b[0;34m:\u001b[0m\u001b[0;34m\u001b[0m\u001b[0;34m\u001b[0m\u001b[0m\n\u001b[0;32m--> 225\u001b[0;31m             \u001b[0;32mraise\u001b[0m \u001b[0mApiException\u001b[0m\u001b[0;34m(\u001b[0m\u001b[0mhttp_resp\u001b[0m\u001b[0;34m=\u001b[0m\u001b[0mr\u001b[0m\u001b[0;34m)\u001b[0m\u001b[0;34m\u001b[0m\u001b[0;34m\u001b[0m\u001b[0m\n\u001b[0m\u001b[1;32m    226\u001b[0m \u001b[0;34m\u001b[0m\u001b[0m\n\u001b[1;32m    227\u001b[0m         \u001b[0;32mreturn\u001b[0m \u001b[0mr\u001b[0m\u001b[0;34m\u001b[0m\u001b[0;34m\u001b[0m\u001b[0m\n",
      "\u001b[0;31mApiException\u001b[0m: (500)\nReason: Server Error\nHTTP response headers: HTTPHeaderDict({'Date': 'Wed, 20 Jan 2021 21:19:32 GMT', 'Content-Type': 'application/json;charset=utf-8', 'Transfer-Encoding': 'chunked', 'Connection': 'keep-alive', 'Server': 'nginx/1.18.0 (Ubuntu)', 'X-Content-Type-Options': 'nosniff', 'X-XSS-Protection': '1; mode=block', 'Cache-Control': 'no-cache, no-store, max-age=0, must-revalidate', 'Pragma': 'no-cache', 'Expires': '0', 'X-Frame-Options': 'DENY', 'Strict-Transport-Security': 'max-age=31536000'})\nHTTP response body: {\"errors\":[{\"error\":{},\"message\":\"Test12345: Type Test12345 already exists.\"}]}\n"
     ]
    }
   ],
   "source": [
    "# get the entity type\n",
    "entity_type_id = edmAPI.get_entity_type_id(namespace = \"general\", name = \"person\")\n",
    "\n",
    "entset = {\n",
    "        \"entityTypeId\": entity_type_id,\n",
    "        \"name\": \"Test12345\",\n",
    "        \"title\": \"Test12345\",\n",
    "        \"contacts\": [\"yue@openlattice.com\"],\n",
    "        \"organizationId\": \"961d293e-d244-4939-ad1b-69b356038825\" # Yue's Test org\n",
    "    }\n",
    "\n",
    "entitySetsAPI.create_entity_sets(entity_set=[entset])"
   ]
  },
  {
   "cell_type": "code",
   "execution_count": 4,
   "metadata": {},
   "outputs": [
    {
     "data": {
      "text/plain": [
       "'0f898abd-edfe-4212-8642-74db49efa474'"
      ]
     },
     "execution_count": 4,
     "metadata": {},
     "output_type": "execute_result"
    }
   ],
   "source": [
    "entitysetid = entitySetsAPI.get_entity_set_id('Test12345')\n",
    "entitysetid"
   ]
  },
  {
   "cell_type": "markdown",
   "metadata": {},
   "source": [
    "## 2. Add data\n",
    "\n",
    "Next step: we'll write the data. The steps to this:\n",
    "\n",
    "1. For each primary key (in this case, the name), create the entity key IDs if they do not exist already.\n",
    "2. To add data, you will need to create a dictionary that maps the entity key IDs to the corresponding property type ID and data, i.e. `{entity_key_id} : {property_type_id: [data]}}`\n",
    "3. Use data API to update entities in the dataset"
   ]
  },
  {
   "cell_type": "code",
   "execution_count": 27,
   "metadata": {},
   "outputs": [
    {
     "data": {
      "text/plain": [
       "['b89d0000-0000-0000-8000-00000001f385',\n",
       " 'b8ab0000-0000-0000-8000-00000001e285',\n",
       " 'b8ac0000-0000-0000-8000-00000001f2b0',\n",
       " 'b8ac0000-0000-0000-8000-00000001f2b1']"
      ]
     },
     "execution_count": 27,
     "metadata": {},
     "output_type": "execute_result"
    }
   ],
   "source": [
    "data = pd.DataFrame({'name': ['Woman1', 'Woman2', 'Child1', 'Child2']})\n",
    "data_entity_keys = [openlattice.EntityKey(entitysetid, x) for x in data['name']]\n",
    "entity_key_ids = integrationAPI.get_entity_key_ids(data_entity_keys)\n",
    "entity_key_ids"
   ]
  },
  {
   "cell_type": "code",
   "execution_count": 31,
   "metadata": {},
   "outputs": [
    {
     "data": {
      "text/plain": [
       "{'b89d0000-0000-0000-8000-00000001f385': {'5260cfbd-bfa4-40c1-ade5-cd83cc9f99b2': ['Woman1']},\n",
       " 'b8ab0000-0000-0000-8000-00000001e285': {'5260cfbd-bfa4-40c1-ade5-cd83cc9f99b2': ['Woman2']},\n",
       " 'b8ac0000-0000-0000-8000-00000001f2b0': {'5260cfbd-bfa4-40c1-ade5-cd83cc9f99b2': ['Child1']},\n",
       " 'b8ac0000-0000-0000-8000-00000001f2b1': {'5260cfbd-bfa4-40c1-ade5-cd83cc9f99b2': ['Child2']}}"
      ]
     },
     "execution_count": 31,
     "metadata": {},
     "output_type": "execute_result"
    }
   ],
   "source": [
    "prep_data = {}\n",
    "\n",
    "for idx, row in data.iterrows():\n",
    "    prep_data[entity_key_ids[idx]] = {\n",
    "        edmAPI.get_property_type_id('nc', 'SubjectIdentification'):\n",
    "        [row['name']]\n",
    "    }\n",
    "    \n",
    "prep_data"
   ]
  },
  {
   "cell_type": "code",
   "execution_count": 32,
   "metadata": {},
   "outputs": [
    {
     "data": {
      "text/plain": [
       "4"
      ]
     },
     "execution_count": 32,
     "metadata": {},
     "output_type": "execute_result"
    }
   ],
   "source": [
    "dataAPI.update_entities_in_entity_set(\n",
    "    entity_set_id = entitysetid,\n",
    "    type = \"Replace\",\n",
    "    request_body = prep_data\n",
    ")"
   ]
  },
  {
   "cell_type": "markdown",
   "metadata": {},
   "source": [
    "#### Now load the data... And there it is!\n",
    "\n",
    "This loads a dataset that's a list of dictionaries. The field openlattice.@id is a unique entity key for each entity and is generated uniquely by OpenLattice during integration. The field nc.SubjectIdentification is a standardized field for the entity type general.person. To see what property types exist in an entity type, check out our [EDM page](https://openlattice.com/edm/#/propertyTypes). For a more thorough explanation of entity models, check out [this help page](https://help.openlattice.com/article/20-the-openlattice-standardized-entity-data-model)."
   ]
  },
  {
   "cell_type": "code",
   "execution_count": 33,
   "metadata": {},
   "outputs": [
    {
     "name": "stdout",
     "output_type": "stream",
     "text": [
      "[{'nc.SubjectIdentification': ['Child1'],\n",
      "  'openlattice.@id': ['b8ac0000-0000-0000-8000-00000001f2b0']},\n",
      " {'nc.SubjectIdentification': ['Woman1'],\n",
      "  'openlattice.@id': ['b89d0000-0000-0000-8000-00000001f385']},\n",
      " {'nc.SubjectIdentification': ['Woman2'],\n",
      "  'openlattice.@id': ['b8ab0000-0000-0000-8000-00000001e285']},\n",
      " {'nc.SubjectIdentification': ['Child2'],\n",
      "  'openlattice.@id': ['b8ac0000-0000-0000-8000-00000001f2b1']}]\n"
     ]
    }
   ],
   "source": [
    "data = dataAPI.load_entity_set_data(entitysetid)\n",
    "pprint(data)"
   ]
  },
  {
   "cell_type": "markdown",
   "metadata": {},
   "source": [
    "### 3. Now: find the entity key IDs that satisfies the condition"
   ]
  },
  {
   "cell_type": "code",
   "execution_count": 34,
   "metadata": {},
   "outputs": [
    {
     "data": {
      "text/plain": [
       "['b89d0000-0000-0000-8000-00000001f385',\n",
       " 'b8ab0000-0000-0000-8000-00000001e285']"
      ]
     },
     "execution_count": 34,
     "metadata": {},
     "output_type": "execute_result"
    }
   ],
   "source": [
    "entitykeys_to_delete = []\n",
    "for datapoint in data:\n",
    "    for value in datapoint['nc.SubjectIdentification']:\n",
    "        # condition: if we see the word Woman in the value....\n",
    "        if \"Woman\" in value:\n",
    "            entitykeys_to_delete.append(datapoint['openlattice.@id'][0])\n",
    "            \n",
    "entitykeys_to_delete"
   ]
  },
  {
   "cell_type": "markdown",
   "metadata": {},
   "source": [
    "## 4. And (selectively) delete!"
   ]
  },
  {
   "cell_type": "code",
   "execution_count": 35,
   "metadata": {},
   "outputs": [
    {
     "data": {
      "text/plain": [
       "2"
      ]
     },
     "execution_count": 35,
     "metadata": {},
     "output_type": "execute_result"
    }
   ],
   "source": [
    "dataAPI.delete_entities(\n",
    "    entity_set_id = entitysetid, \n",
    "    type = \"Soft\", \n",
    "    request_body = entitykeys_to_delete)"
   ]
  },
  {
   "cell_type": "markdown",
   "metadata": {},
   "source": [
    "Now we see that only `Child1` and `Child2` still exist!"
   ]
  },
  {
   "cell_type": "code",
   "execution_count": 36,
   "metadata": {},
   "outputs": [
    {
     "name": "stdout",
     "output_type": "stream",
     "text": [
      "[{'nc.SubjectIdentification': ['Child1'],\n",
      "  'openlattice.@id': ['b8ac0000-0000-0000-8000-00000001f2b0']},\n",
      " {'nc.SubjectIdentification': ['Child2'],\n",
      "  'openlattice.@id': ['b8ac0000-0000-0000-8000-00000001f2b1']}]\n"
     ]
    }
   ],
   "source": [
    "pprint(data)"
   ]
  },
  {
   "cell_type": "markdown",
   "metadata": {},
   "source": [
    "## 5. Delete all of the data in the entity set\n",
    "\n",
    "To indiscriminately delete data from the dataset you can call the `delete_all_entities_from_entity_set`. If for whatever reason, the entity set you created had an issue, this is useful. And now, you can see it returns an empty list."
   ]
  },
  {
   "cell_type": "code",
   "execution_count": 38,
   "metadata": {},
   "outputs": [],
   "source": [
    "dataAPI.delete_all_entities_from_entity_set(entity_set_id = entitysetid, type = \"Hard\")"
   ]
  },
  {
   "cell_type": "code",
   "execution_count": 39,
   "metadata": {},
   "outputs": [
    {
     "name": "stdout",
     "output_type": "stream",
     "text": [
      "[]\n"
     ]
    }
   ],
   "source": [
    "data = dataAPI.load_entity_set_data(entitysetid)\n",
    "pprint(data)"
   ]
  },
  {
   "cell_type": "markdown",
   "metadata": {},
   "source": [
    "## 6. Delete the entity set\n",
    "\n",
    "If the entity set is no longer needed, you can get rid of all of the data and metadata associated with the entity set. If we try to load the dataset, it'll return an error."
   ]
  },
  {
   "cell_type": "code",
   "execution_count": 40,
   "metadata": {},
   "outputs": [],
   "source": [
    "entitySetsAPI.delete_entity_set(entitysetid)"
   ]
  },
  {
   "cell_type": "code",
   "execution_count": 42,
   "metadata": {},
   "outputs": [],
   "source": [
    "# data = dataAPI.load_entity_set_data(entitysetid)"
   ]
  },
  {
   "cell_type": "markdown",
   "metadata": {},
   "source": [
    "## Bonus: deleting multiple entity sets at a time\n",
    "\n",
    "Sometimes, you want to delete a bunch of entity sets. The easiest way to do so is to just run a for loop."
   ]
  },
  {
   "cell_type": "code",
   "execution_count": null,
   "metadata": {},
   "outputs": [],
   "source": [
    "ent_sets_to_delete = ['e1', 'e2']\n",
    "\n",
    "for ent in ent_sets_to_delete:\n",
    "    ent_id = entitySetsAPI.get_entity_set_id(ent)\n",
    "    entitySetsAPI.delete_entity_set(ent_id)\n",
    "    print(f\"{ent} deleted!\")"
   ]
  }
 ],
 "metadata": {
  "kernelspec": {
   "display_name": "Python 3",
   "language": "python",
   "name": "python3"
  },
  "language_info": {
   "codemirror_mode": {
    "name": "ipython",
    "version": 3
   },
   "file_extension": ".py",
   "mimetype": "text/x-python",
   "name": "python",
   "nbconvert_exporter": "python",
   "pygments_lexer": "ipython3",
   "version": "3.7.6"
  }
 },
 "nbformat": 4,
 "nbformat_minor": 4
}
