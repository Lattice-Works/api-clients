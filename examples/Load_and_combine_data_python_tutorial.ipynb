{
 "cells": [
  {
   "cell_type": "markdown",
   "metadata": {},
   "source": [
    "# OpenLattice Python API tutorial\n",
    "\n",
    "This notebook shows how to use the open API documentation to interact with the OpenLattice backend, and load and join data for analysis with python."
   ]
  },
  {
   "cell_type": "markdown",
   "metadata": {},
   "source": [
    "After we've installed the python library for the OL-API, we can load the library, set the basepath and our authentication, and get the client. You can find you jwt token in the [**account page**](https://openlattice.com/gallery/#/home) of your openlattice account"
   ]
  },
  {
   "cell_type": "code",
   "execution_count": 1,
   "metadata": {},
   "outputs": [],
   "source": [
    "import openlattice\n",
    "import numpy as np\n",
    "import pandas as pd\n",
    "\n",
    "jwt = \"***\"\n",
    "\n",
    "baseurl = 'https://api.openlattice.com'\n",
    "\n",
    "configuration = openlattice.Configuration()\n",
    "configuration.host = baseurl\n",
    "configuration.api_key_prefix['Authorization'] = 'Bearer'\n",
    "configuration.api_key['Authorization'] = jwt"
   ]
  },
  {
   "cell_type": "markdown",
   "metadata": {},
   "source": [
    "In this notebook, we'll use the edmAPI (to find the details of the entity sets), the dataAPI (to load the data) and the searchAPI (to search the neighbors)."
   ]
  },
  {
   "cell_type": "code",
   "execution_count": 2,
   "metadata": {},
   "outputs": [],
   "source": [
    "edmAPI = openlattice.EdmApi(openlattice.ApiClient(configuration))\n",
    "dataAPI = openlattice.DataApi(openlattice.ApiClient(configuration))\n",
    "searchAPI = openlattice.SearchApi(openlattice.ApiClient(configuration))"
   ]
  },
  {
   "cell_type": "markdown",
   "metadata": {},
   "source": [
    "## Get original data and data from localhost"
   ]
  },
  {
   "cell_type": "markdown",
   "metadata": {},
   "source": [
    "We now load the entity set IDs and the data. First, we decide what data we want.  Let's say we have integrated data from a sheriff's office, supportive housing group, and detox center. We want to look at arrestees and any housing statuses they've given in the past. Use your flight diagrams to decide upon entity sets and relationships and get their names: from your OpenLattice integration, you should have a diagram of the graph data model that your data now resides in. The one for our healthcare demonstration data is [here](https://github.com/Lattice-Works/api-clients/examples/demohealth.pdf)."
   ]
  },
  {
   "cell_type": "markdown",
   "metadata": {},
   "source": [
    "We can see that **DemoPatients -> DemoLivesAt -> DemoHousings** gives us people and any housing status associated with them. Let's say you linked sheriff and health data in a new person dataset called **\"DemoLinkedPeople2\"**. We know that by calling upon the linked people we can include those arrested.\n",
    "\n",
    "First, we get the entitysetid's for the datasets we want. The documentation for the edmAPI can be found here: https://github.com/Lattice-Works/api-clients/blob/master/python/docs/EdmApi.md\n",
    "It lists all functions with a description. We will use the function get_entity_set_id(). If you click on that function, it shows which parameters should be added. In this case the parameters are entity_set_name, which is a string."
   ]
  },
  {
   "cell_type": "code",
   "execution_count": 3,
   "metadata": {},
   "outputs": [],
   "source": [
    "sourceEntitySetId = edmAPI.get_entity_set_id('DemoLinkedPeople2')\n",
    "associationEntitySetId = edmAPI.get_entity_set_id('DemoLivesAt')\n",
    "destEntitySetId = edmAPI.get_entity_set_id('DemoHousings')"
   ]
  },
  {
   "cell_type": "markdown",
   "metadata": {},
   "source": [
    "With the dataAPI, we can load the data.  We can immediately read them into a pandas DataFrame.  Then we set the index to the **first** `openlattice.@id`."
   ]
  },
  {
   "cell_type": "code",
   "execution_count": 4,
   "metadata": {},
   "outputs": [],
   "source": [
    "src_data = pd.DataFrame(dataAPI.load_entity_set_data(sourceEntitySetId))\n",
    "edge_data = pd.DataFrame(dataAPI.load_entity_set_data(associationEntitySetId))\n",
    "dst_data = pd.DataFrame(dataAPI.load_entity_set_data(destEntitySetId))"
   ]
  },
  {
   "cell_type": "code",
   "execution_count": 5,
   "metadata": {},
   "outputs": [],
   "source": [
    "# removing property multiplicity (get first entry)\n",
    "for column in src_data.columns:\n",
    "    src_data[column] = [x[0] if isinstance(x, list) else None for x in src_data[column]]\n",
    "for column in edge_data.columns:\n",
    "    edge_data[column] = [x[0] if isinstance(x, list) else None for x in edge_data[column]]\n",
    "for column in dst_data.columns:\n",
    "    dst_data[column] = [x[0] if isinstance(x, list) else None for x in dst_data[column]]\n",
    "\n",
    "src_data = src_data.set_index('openlattice.@id', drop = True).dropna(how='all')\n",
    "dst_data = dst_data.set_index('openlattice.@id', drop = True).dropna(how='all')\n",
    "edge_data = edge_data.set_index('openlattice.@id', drop = True).dropna(how='all')"
   ]
  },
  {
   "cell_type": "markdown",
   "metadata": {},
   "source": [
    "### Show heads of entity sets"
   ]
  },
  {
   "cell_type": "code",
   "execution_count": 6,
   "metadata": {},
   "outputs": [
    {
     "data": {
      "text/html": [
       "<div>\n",
       "<style scoped>\n",
       "    .dataframe tbody tr th:only-of-type {\n",
       "        vertical-align: middle;\n",
       "    }\n",
       "\n",
       "    .dataframe tbody tr th {\n",
       "        vertical-align: top;\n",
       "    }\n",
       "\n",
       "    .dataframe thead th {\n",
       "        text-align: right;\n",
       "    }\n",
       "</style>\n",
       "<table border=\"1\" class=\"dataframe\">\n",
       "  <thead>\n",
       "    <tr style=\"text-align: right;\">\n",
       "      <th></th>\n",
       "      <th>nc.PersonBirthDate</th>\n",
       "      <th>nc.PersonEthnicity</th>\n",
       "      <th>nc.PersonGivenName</th>\n",
       "      <th>nc.PersonRace</th>\n",
       "      <th>nc.PersonSex</th>\n",
       "      <th>nc.PersonSurName</th>\n",
       "      <th>nc.SubjectIdentification</th>\n",
       "      <th>ol.datasource</th>\n",
       "    </tr>\n",
       "    <tr>\n",
       "      <th>openlattice.@id</th>\n",
       "      <th></th>\n",
       "      <th></th>\n",
       "      <th></th>\n",
       "      <th></th>\n",
       "      <th></th>\n",
       "      <th></th>\n",
       "      <th></th>\n",
       "      <th></th>\n",
       "    </tr>\n",
       "  </thead>\n",
       "  <tbody>\n",
       "    <tr>\n",
       "      <th>003b0000-0000-0000-8000-0000000020d7</th>\n",
       "      <td>1955-12-28</td>\n",
       "      <td>nonhispanic</td>\n",
       "      <td>Jose</td>\n",
       "      <td>white</td>\n",
       "      <td>M</td>\n",
       "      <td>Calhoun</td>\n",
       "      <td>6dee78dc-aa81-4020-8c23-a44f6ccb7de2</td>\n",
       "      <td>Any County Sheriff</td>\n",
       "    </tr>\n",
       "    <tr>\n",
       "      <th>00e40000-0000-0000-8000-00000000207e</th>\n",
       "      <td>1981-01-15</td>\n",
       "      <td>nonhispanic</td>\n",
       "      <td>Jose</td>\n",
       "      <td>white</td>\n",
       "      <td>M</td>\n",
       "      <td>Kelly</td>\n",
       "      <td>b16e1e68-1919-4409-94cf-514b32596040</td>\n",
       "      <td>Anytown Police Dept.</td>\n",
       "    </tr>\n",
       "    <tr>\n",
       "      <th>01140000-0000-0000-8000-000000003159</th>\n",
       "      <td>1953-01-03</td>\n",
       "      <td>nonhispanic</td>\n",
       "      <td>Anna</td>\n",
       "      <td>white</td>\n",
       "      <td>F</td>\n",
       "      <td>Patton</td>\n",
       "      <td>a125db71-4299-4c02-9133-316c6b135108</td>\n",
       "      <td>Anytown Police Dept.</td>\n",
       "    </tr>\n",
       "    <tr>\n",
       "      <th>02a80000-0000-0000-8000-0000000020e8</th>\n",
       "      <td>1967-03-20</td>\n",
       "      <td>nonhispanic</td>\n",
       "      <td>Tamara</td>\n",
       "      <td>asian</td>\n",
       "      <td>F</td>\n",
       "      <td>Koch</td>\n",
       "      <td>ba086259-551e-4764-be3c-a3a44d34de92</td>\n",
       "      <td>Forest Outpatient Treatment</td>\n",
       "    </tr>\n",
       "    <tr>\n",
       "      <th>03810000-0000-0000-8000-0000000035cb</th>\n",
       "      <td>1996-08-14</td>\n",
       "      <td>hispanic</td>\n",
       "      <td>Caitlyn</td>\n",
       "      <td>white</td>\n",
       "      <td>F</td>\n",
       "      <td>Swanson</td>\n",
       "      <td>8f319acd-0366-4320-9c65-f9bb4ca12547</td>\n",
       "      <td>Anytown Police Dept.</td>\n",
       "    </tr>\n",
       "  </tbody>\n",
       "</table>\n",
       "</div>"
      ],
      "text/plain": [
       "                                     nc.PersonBirthDate nc.PersonEthnicity  \\\n",
       "openlattice.@id                                                              \n",
       "003b0000-0000-0000-8000-0000000020d7         1955-12-28        nonhispanic   \n",
       "00e40000-0000-0000-8000-00000000207e         1981-01-15        nonhispanic   \n",
       "01140000-0000-0000-8000-000000003159         1953-01-03        nonhispanic   \n",
       "02a80000-0000-0000-8000-0000000020e8         1967-03-20        nonhispanic   \n",
       "03810000-0000-0000-8000-0000000035cb         1996-08-14           hispanic   \n",
       "\n",
       "                                     nc.PersonGivenName nc.PersonRace  \\\n",
       "openlattice.@id                                                         \n",
       "003b0000-0000-0000-8000-0000000020d7               Jose         white   \n",
       "00e40000-0000-0000-8000-00000000207e               Jose         white   \n",
       "01140000-0000-0000-8000-000000003159               Anna         white   \n",
       "02a80000-0000-0000-8000-0000000020e8             Tamara         asian   \n",
       "03810000-0000-0000-8000-0000000035cb            Caitlyn         white   \n",
       "\n",
       "                                     nc.PersonSex nc.PersonSurName  \\\n",
       "openlattice.@id                                                      \n",
       "003b0000-0000-0000-8000-0000000020d7            M          Calhoun   \n",
       "00e40000-0000-0000-8000-00000000207e            M            Kelly   \n",
       "01140000-0000-0000-8000-000000003159            F           Patton   \n",
       "02a80000-0000-0000-8000-0000000020e8            F             Koch   \n",
       "03810000-0000-0000-8000-0000000035cb            F          Swanson   \n",
       "\n",
       "                                                  nc.SubjectIdentification  \\\n",
       "openlattice.@id                                                              \n",
       "003b0000-0000-0000-8000-0000000020d7  6dee78dc-aa81-4020-8c23-a44f6ccb7de2   \n",
       "00e40000-0000-0000-8000-00000000207e  b16e1e68-1919-4409-94cf-514b32596040   \n",
       "01140000-0000-0000-8000-000000003159  a125db71-4299-4c02-9133-316c6b135108   \n",
       "02a80000-0000-0000-8000-0000000020e8  ba086259-551e-4764-be3c-a3a44d34de92   \n",
       "03810000-0000-0000-8000-0000000035cb  8f319acd-0366-4320-9c65-f9bb4ca12547   \n",
       "\n",
       "                                                    ol.datasource  \n",
       "openlattice.@id                                                    \n",
       "003b0000-0000-0000-8000-0000000020d7           Any County Sheriff  \n",
       "00e40000-0000-0000-8000-00000000207e         Anytown Police Dept.  \n",
       "01140000-0000-0000-8000-000000003159         Anytown Police Dept.  \n",
       "02a80000-0000-0000-8000-0000000020e8  Forest Outpatient Treatment  \n",
       "03810000-0000-0000-8000-0000000035cb         Anytown Police Dept.  "
      ]
     },
     "execution_count": 6,
     "metadata": {},
     "output_type": "execute_result"
    }
   ],
   "source": [
    "src_data.head(5)"
   ]
  },
  {
   "cell_type": "code",
   "execution_count": 7,
   "metadata": {},
   "outputs": [
    {
     "data": {
      "text/html": [
       "<div>\n",
       "<style scoped>\n",
       "    .dataframe tbody tr th:only-of-type {\n",
       "        vertical-align: middle;\n",
       "    }\n",
       "\n",
       "    .dataframe tbody tr th {\n",
       "        vertical-align: top;\n",
       "    }\n",
       "\n",
       "    .dataframe thead th {\n",
       "        text-align: right;\n",
       "    }\n",
       "</style>\n",
       "<table border=\"1\" class=\"dataframe\">\n",
       "  <thead>\n",
       "    <tr style=\"text-align: right;\">\n",
       "      <th></th>\n",
       "      <th>ol.id</th>\n",
       "      <th>ol.type</th>\n",
       "    </tr>\n",
       "    <tr>\n",
       "      <th>openlattice.@id</th>\n",
       "      <th></th>\n",
       "      <th></th>\n",
       "    </tr>\n",
       "  </thead>\n",
       "  <tbody>\n",
       "    <tr>\n",
       "      <th>cef20000-0000-0000-8000-0000000032a9</th>\n",
       "      <td>INDEPENDENT LIVING</td>\n",
       "      <td>INDEPENDENT LIVING</td>\n",
       "    </tr>\n",
       "    <tr>\n",
       "      <th>d5000000-0000-0000-8000-000000003234</th>\n",
       "      <td>HOMELESS</td>\n",
       "      <td>HOMELESS</td>\n",
       "    </tr>\n",
       "    <tr>\n",
       "      <th>34490000-0000-0000-8000-0000000032ee</th>\n",
       "      <td>DEPENDENT LIVING</td>\n",
       "      <td>DEPENDENT LIVING</td>\n",
       "    </tr>\n",
       "    <tr>\n",
       "      <th>608b0000-0000-0000-8000-0000000031d0</th>\n",
       "      <td>RECENTLY INCARCERATED</td>\n",
       "      <td>RECENTLY INCARCERATED</td>\n",
       "    </tr>\n",
       "    <tr>\n",
       "      <th>74210000-0000-0000-8000-00000000325b</th>\n",
       "      <td>SOBER HOME</td>\n",
       "      <td>SOBER HOME</td>\n",
       "    </tr>\n",
       "  </tbody>\n",
       "</table>\n",
       "</div>"
      ],
      "text/plain": [
       "                                                      ol.id  \\\n",
       "openlattice.@id                                               \n",
       "cef20000-0000-0000-8000-0000000032a9     INDEPENDENT LIVING   \n",
       "d5000000-0000-0000-8000-000000003234               HOMELESS   \n",
       "34490000-0000-0000-8000-0000000032ee       DEPENDENT LIVING   \n",
       "608b0000-0000-0000-8000-0000000031d0  RECENTLY INCARCERATED   \n",
       "74210000-0000-0000-8000-00000000325b             SOBER HOME   \n",
       "\n",
       "                                                    ol.type  \n",
       "openlattice.@id                                              \n",
       "cef20000-0000-0000-8000-0000000032a9     INDEPENDENT LIVING  \n",
       "d5000000-0000-0000-8000-000000003234               HOMELESS  \n",
       "34490000-0000-0000-8000-0000000032ee       DEPENDENT LIVING  \n",
       "608b0000-0000-0000-8000-0000000031d0  RECENTLY INCARCERATED  \n",
       "74210000-0000-0000-8000-00000000325b             SOBER HOME  "
      ]
     },
     "execution_count": 7,
     "metadata": {},
     "output_type": "execute_result"
    }
   ],
   "source": [
    "dst_data.head(5)"
   ]
  },
  {
   "cell_type": "code",
   "execution_count": 8,
   "metadata": {},
   "outputs": [
    {
     "data": {
      "text/html": [
       "<div>\n",
       "<style scoped>\n",
       "    .dataframe tbody tr th:only-of-type {\n",
       "        vertical-align: middle;\n",
       "    }\n",
       "\n",
       "    .dataframe tbody tr th {\n",
       "        vertical-align: top;\n",
       "    }\n",
       "\n",
       "    .dataframe thead th {\n",
       "        text-align: right;\n",
       "    }\n",
       "</style>\n",
       "<table border=\"1\" class=\"dataframe\">\n",
       "  <thead>\n",
       "    <tr style=\"text-align: right;\">\n",
       "      <th></th>\n",
       "      <th>general.id</th>\n",
       "    </tr>\n",
       "    <tr>\n",
       "      <th>openlattice.@id</th>\n",
       "      <th></th>\n",
       "    </tr>\n",
       "  </thead>\n",
       "  <tbody>\n",
       "    <tr>\n",
       "      <th>1f510000-0000-0000-8000-000000003195</th>\n",
       "      <td>852f2853-1f11-425d-9a34-a23b051a6ccf_INDEPENDE...</td>\n",
       "    </tr>\n",
       "    <tr>\n",
       "      <th>d7c80000-0000-0000-8000-00000000323f</th>\n",
       "      <td>4f304f4a-a022-4903-a34b-e67901076b54_HOMELESS</td>\n",
       "    </tr>\n",
       "    <tr>\n",
       "      <th>95d40000-0000-0000-8000-000000003216</th>\n",
       "      <td>34822c97-4a6f-4442-90bb-e647a989189f_SOBER HOME</td>\n",
       "    </tr>\n",
       "    <tr>\n",
       "      <th>0bb50000-0000-0000-8000-00000000326c</th>\n",
       "      <td>29c67c2e-1b11-4141-b7e2-909387096eb9_RECENTLY ...</td>\n",
       "    </tr>\n",
       "    <tr>\n",
       "      <th>92e50000-0000-0000-8000-00000000321d</th>\n",
       "      <td>15586b2e-08e0-424f-a60e-d365ed0650e1_INDEPENDE...</td>\n",
       "    </tr>\n",
       "  </tbody>\n",
       "</table>\n",
       "</div>"
      ],
      "text/plain": [
       "                                                                             general.id\n",
       "openlattice.@id                                                                        \n",
       "1f510000-0000-0000-8000-000000003195  852f2853-1f11-425d-9a34-a23b051a6ccf_INDEPENDE...\n",
       "d7c80000-0000-0000-8000-00000000323f      4f304f4a-a022-4903-a34b-e67901076b54_HOMELESS\n",
       "95d40000-0000-0000-8000-000000003216    34822c97-4a6f-4442-90bb-e647a989189f_SOBER HOME\n",
       "0bb50000-0000-0000-8000-00000000326c  29c67c2e-1b11-4141-b7e2-909387096eb9_RECENTLY ...\n",
       "92e50000-0000-0000-8000-00000000321d  15586b2e-08e0-424f-a60e-d365ed0650e1_INDEPENDE..."
      ]
     },
     "execution_count": 8,
     "metadata": {},
     "output_type": "execute_result"
    }
   ],
   "source": [
    "edge_data.head(5)"
   ]
  },
  {
   "cell_type": "markdown",
   "metadata": {},
   "source": [
    "## Search the links between the entity sets with the API\n",
    "\n",
    "### Full search (execute_entity_neighbor_search)"
   ]
  },
  {
   "cell_type": "markdown",
   "metadata": {},
   "source": [
    "To join two entity sets (through an edge/association) we must find the unique ID that each data point, or entity, has in the three tables: the source, destination, and association. We call these IDs the neighbors.\n",
    "\n",
    "The `execute_entity_neighbor_search`-function allows us to find all neighbors of an entity.  We can find the neighbors of the first entity in the data with the following arguments:\n",
    "\n",
    "**note:** `src_data.index` is the index of the table: the entity_keys of this entity set)"
   ]
  },
  {
   "cell_type": "code",
   "execution_count": 9,
   "metadata": {},
   "outputs": [
    {
     "data": {
      "text/plain": [
       "{'association_details': {'ol_id': \"['6dee78dc-aa81-4020-8c23-a44f6ccb7de2_2015-75717']\",\n",
       "                         'openlattice_id': \"['9a610000-0000-0000-8000-00000000315e']\"},\n",
       " 'association_entity_set': {'contacts': ['kim@openlattice.com',\n",
       "                                         'jason@openlattice.com'],\n",
       "                            'description': '',\n",
       "                            'entity_type_id': '5bf88cde-65bc-4865-a58b-920eec4c4028',\n",
       "                            'external': True,\n",
       "                            'id': '6405cd23-e95f-488d-bfe1-2c937e9adca8',\n",
       "                            'linked_entity_sets': None,\n",
       "                            'linking': False,\n",
       "                            'name': 'DemoInvolvedIn',\n",
       "                            'title': 'Demo: InvolvedIn'},\n",
       " 'neighbor_entity_set': {'contacts': ['kim@openlattice.com',\n",
       "                                      'jason@openlattice.com'],\n",
       "                         'description': 'Incidents in the OpenLattice criminal '\n",
       "                                        'justice demo data. This information '\n",
       "                                        'is synthetic and for demonstration '\n",
       "                                        'purposes only.',\n",
       "                         'entity_type_id': '72dc4594-8dc0-4956-959f-2408a069f2aa',\n",
       "                         'external': True,\n",
       "                         'id': 'c60edffb-a86c-4911-b0eb-1ab7495cf710',\n",
       "                         'linked_entity_sets': None,\n",
       "                         'linking': False,\n",
       "                         'name': 'DemoIncidents',\n",
       "                         'title': 'Demo: Incidents'},\n",
       " 'neighbor_id': '571e0000-0000-0000-8000-00000000311f',\n",
       " 'neighbour_details': None}"
      ]
     },
     "execution_count": 9,
     "metadata": {},
     "output_type": "execute_result"
    }
   ],
   "source": [
    "all_neighbors = searchAPI.execute_entity_neighbor_search(sourceEntitySetId, src_data.index[0])\n",
    "all_neighbors[10]"
   ]
  },
  {
   "cell_type": "markdown",
   "metadata": {},
   "source": [
    "### Filtered search (execute_filtered_entity_neighbor_search)"
   ]
  },
  {
   "cell_type": "markdown",
   "metadata": {},
   "source": [
    "With the filtered search, we can be more specific about the source, destination and association. To make such a query, we need to instantiate an object of type `openapi_client.NeighborSearchFilter`.  Note that we will give the source_entity_set_id in the search function, so we leave it as an empty list here in the object.\n",
    "\n",
    "We will only search for the first 10 entities of the source data for easier viewing.\n",
    "\n",
    "**Always set the _other_ entity set (whether source or destination) to a blank.**"
   ]
  },
  {
   "cell_type": "code",
   "execution_count": 10,
   "metadata": {},
   "outputs": [],
   "source": [
    "neighbor_filter = openlattice.NeighborSearchFilter(\n",
    "    edge = [associationEntitySetId],\n",
    "    src = [],\n",
    "    dst = [destEntitySetId],\n",
    "    entity_key_ids = src_data.index.tolist()[:10]\n",
    ")"
   ]
  },
  {
   "cell_type": "markdown",
   "metadata": {},
   "source": [
    "This is what the object looks like:"
   ]
  },
  {
   "cell_type": "code",
   "execution_count": 11,
   "metadata": {},
   "outputs": [
    {
     "name": "stdout",
     "output_type": "stream",
     "text": [
      "{'dst': ['0fb7390e-a2b2-4855-ac46-bcce5ced9986'],\n",
      " 'edge': ['668e63bc-a112-460c-8036-00fc3742ae4c'],\n",
      " 'entity_key_ids': ['003b0000-0000-0000-8000-0000000020d7',\n",
      "                    '00e40000-0000-0000-8000-00000000207e',\n",
      "                    '01140000-0000-0000-8000-000000003159',\n",
      "                    '02a80000-0000-0000-8000-0000000020e8',\n",
      "                    '03810000-0000-0000-8000-0000000035cb',\n",
      "                    '04f20000-0000-0000-8000-000000002076',\n",
      "                    '05350000-0000-0000-8000-000000002153',\n",
      "                    '05b40000-0000-0000-8000-00000000208f',\n",
      "                    '05e40000-0000-0000-8000-000000002071',\n",
      "                    '064c0000-0000-0000-8000-0000000031a8'],\n",
      " 'src': []}\n"
     ]
    }
   ],
   "source": [
    "print(neighbor_filter.to_str())"
   ]
  },
  {
   "cell_type": "markdown",
   "metadata": {},
   "source": [
    "Now we can do the filtered search."
   ]
  },
  {
   "cell_type": "code",
   "execution_count": 12,
   "metadata": {},
   "outputs": [],
   "source": [
    "filtered_neighbors = searchAPI.execute_filtered_entity_neighbor_search(\n",
    "    sourceEntitySetId, \n",
    "    neighbor_search_filter=neighbor_filter)"
   ]
  },
  {
   "cell_type": "markdown",
   "metadata": {},
   "source": [
    "Here we have an object with as keys the source entity keys (the 10 first we gave above) and as objects the neighbors."
   ]
  },
  {
   "cell_type": "code",
   "execution_count": 13,
   "metadata": {
    "scrolled": true
   },
   "outputs": [
    {
     "data": {
      "text/plain": [
       "{'02a80000-0000-0000-8000-0000000020e8': [{'associationEntitySet': {'id': '668e63bc-a112-460c-8036-00fc3742ae4c',\n",
       "    'entityTypeId': '2ad709a7-da75-456f-831c-9f263ef9f510',\n",
       "    'name': 'DemoLivesAt',\n",
       "    'title': 'Demo: LivesAt',\n",
       "    'description': '',\n",
       "    'contacts': ['kim@openlattice.com', 'jason@openlattice.com'],\n",
       "    'linking': False,\n",
       "    'linkedEntitySets': [],\n",
       "    'external': True,\n",
       "    'organization': {'type': 'ORGANIZATION', 'id': 'openlatticeOrg'}},\n",
       "   'associationDetails': {'general.id': ['ba086259-551e-4764-be3c-a3a44d34de92_HOMELESS'],\n",
       "    'openlattice.@id': ['86c30000-0000-0000-8000-000000003208']},\n",
       "   'neighborEntitySet': {'id': '0fb7390e-a2b2-4855-ac46-bcce5ced9986',\n",
       "    'entityTypeId': '2fb96971-862a-4cd9-a9bc-00e89436a9d5',\n",
       "    'name': 'DemoHousings',\n",
       "    'title': 'Demo: Housings',\n",
       "    'description': '',\n",
       "    'contacts': ['kim@openlattice.com', 'jason@openlattice.com'],\n",
       "    'linking': False,\n",
       "    'linkedEntitySets': [],\n",
       "    'external': True,\n",
       "    'organization': {'type': 'ORGANIZATION', 'id': 'openlatticeOrg'}},\n",
       "   'neighborId': 'd5000000-0000-0000-8000-000000003234',\n",
       "   'neighborDetails': {'ol.id': ['HOMELESS'],\n",
       "    'openlattice.@id': ['d5000000-0000-0000-8000-000000003234'],\n",
       "    'ol.type': ['HOMELESS']},\n",
       "   'src': True}],\n",
       " '064c0000-0000-0000-8000-0000000031a8': [{'associationEntitySet': {'id': '668e63bc-a112-460c-8036-00fc3742ae4c',\n",
       "    'entityTypeId': '2ad709a7-da75-456f-831c-9f263ef9f510',\n",
       "    'name': 'DemoLivesAt',\n",
       "    'title': 'Demo: LivesAt',\n",
       "    'description': '',\n",
       "    'contacts': ['kim@openlattice.com', 'jason@openlattice.com'],\n",
       "    'linking': False,\n",
       "    'linkedEntitySets': [],\n",
       "    'external': True,\n",
       "    'organization': {'type': 'ORGANIZATION', 'id': 'openlatticeOrg'}},\n",
       "   'associationDetails': {'general.id': ['ca18962e-a0c1-401f-b171-b2435b696ff2_INDEPENDENT LIVING'],\n",
       "    'openlattice.@id': ['f9fd0000-0000-0000-8000-00000000321a']},\n",
       "   'neighborEntitySet': {'id': '0fb7390e-a2b2-4855-ac46-bcce5ced9986',\n",
       "    'entityTypeId': '2fb96971-862a-4cd9-a9bc-00e89436a9d5',\n",
       "    'name': 'DemoHousings',\n",
       "    'title': 'Demo: Housings',\n",
       "    'description': '',\n",
       "    'contacts': ['kim@openlattice.com', 'jason@openlattice.com'],\n",
       "    'linking': False,\n",
       "    'linkedEntitySets': [],\n",
       "    'external': True,\n",
       "    'organization': {'type': 'ORGANIZATION', 'id': 'openlatticeOrg'}},\n",
       "   'neighborId': 'cef20000-0000-0000-8000-0000000032a9',\n",
       "   'neighborDetails': {'ol.id': ['INDEPENDENT LIVING'],\n",
       "    'openlattice.@id': ['cef20000-0000-0000-8000-0000000032a9'],\n",
       "    'ol.type': ['INDEPENDENT LIVING']},\n",
       "   'src': True},\n",
       "  {'associationEntitySet': {'id': '668e63bc-a112-460c-8036-00fc3742ae4c',\n",
       "    'entityTypeId': '2ad709a7-da75-456f-831c-9f263ef9f510',\n",
       "    'name': 'DemoLivesAt',\n",
       "    'title': 'Demo: LivesAt',\n",
       "    'description': '',\n",
       "    'contacts': ['kim@openlattice.com', 'jason@openlattice.com'],\n",
       "    'linking': False,\n",
       "    'linkedEntitySets': [],\n",
       "    'external': True,\n",
       "    'organization': {'type': 'ORGANIZATION', 'id': 'openlatticeOrg'}},\n",
       "   'associationDetails': {'general.id': ['ca18962e-a0c1-401f-b171-b2435b696ff2_HOMELESS'],\n",
       "    'openlattice.@id': ['c13a0000-0000-0000-8000-0000000031c4']},\n",
       "   'neighborEntitySet': {'id': '0fb7390e-a2b2-4855-ac46-bcce5ced9986',\n",
       "    'entityTypeId': '2fb96971-862a-4cd9-a9bc-00e89436a9d5',\n",
       "    'name': 'DemoHousings',\n",
       "    'title': 'Demo: Housings',\n",
       "    'description': '',\n",
       "    'contacts': ['kim@openlattice.com', 'jason@openlattice.com'],\n",
       "    'linking': False,\n",
       "    'linkedEntitySets': [],\n",
       "    'external': True,\n",
       "    'organization': {'type': 'ORGANIZATION', 'id': 'openlatticeOrg'}},\n",
       "   'neighborId': 'd5000000-0000-0000-8000-000000003234',\n",
       "   'neighborDetails': {'ol.id': ['HOMELESS'],\n",
       "    'openlattice.@id': ['d5000000-0000-0000-8000-000000003234'],\n",
       "    'ol.type': ['HOMELESS']},\n",
       "   'src': True},\n",
       "  {'associationEntitySet': {'id': '668e63bc-a112-460c-8036-00fc3742ae4c',\n",
       "    'entityTypeId': '2ad709a7-da75-456f-831c-9f263ef9f510',\n",
       "    'name': 'DemoLivesAt',\n",
       "    'title': 'Demo: LivesAt',\n",
       "    'description': '',\n",
       "    'contacts': ['kim@openlattice.com', 'jason@openlattice.com'],\n",
       "    'linking': False,\n",
       "    'linkedEntitySets': [],\n",
       "    'external': True,\n",
       "    'organization': {'type': 'ORGANIZATION', 'id': 'openlatticeOrg'}},\n",
       "   'associationDetails': {'general.id': ['ca18962e-a0c1-401f-b171-b2435b696ff2_DEPENDENT LIVING'],\n",
       "    'openlattice.@id': ['c7340000-0000-0000-8000-000000003254']},\n",
       "   'neighborEntitySet': {'id': '0fb7390e-a2b2-4855-ac46-bcce5ced9986',\n",
       "    'entityTypeId': '2fb96971-862a-4cd9-a9bc-00e89436a9d5',\n",
       "    'name': 'DemoHousings',\n",
       "    'title': 'Demo: Housings',\n",
       "    'description': '',\n",
       "    'contacts': ['kim@openlattice.com', 'jason@openlattice.com'],\n",
       "    'linking': False,\n",
       "    'linkedEntitySets': [],\n",
       "    'external': True,\n",
       "    'organization': {'type': 'ORGANIZATION', 'id': 'openlatticeOrg'}},\n",
       "   'neighborId': '34490000-0000-0000-8000-0000000032ee',\n",
       "   'neighborDetails': {'ol.id': ['DEPENDENT LIVING'],\n",
       "    'openlattice.@id': ['34490000-0000-0000-8000-0000000032ee'],\n",
       "    'ol.type': ['DEPENDENT LIVING']},\n",
       "   'src': True}]}"
      ]
     },
     "execution_count": 13,
     "metadata": {},
     "output_type": "execute_result"
    }
   ],
   "source": [
    "filtered_neighbors"
   ]
  },
  {
   "cell_type": "markdown",
   "metadata": {},
   "source": [
    "## Creating the edges table\n",
    "\n",
    "To recombine the entity sets, we first construct the edges table that holds the keys to join the tables together."
   ]
  },
  {
   "cell_type": "code",
   "execution_count": 14,
   "metadata": {},
   "outputs": [
    {
     "data": {
      "text/html": [
       "<div>\n",
       "<style scoped>\n",
       "    .dataframe tbody tr th:only-of-type {\n",
       "        vertical-align: middle;\n",
       "    }\n",
       "\n",
       "    .dataframe tbody tr th {\n",
       "        vertical-align: top;\n",
       "    }\n",
       "\n",
       "    .dataframe thead th {\n",
       "        text-align: right;\n",
       "    }\n",
       "</style>\n",
       "<table border=\"1\" class=\"dataframe\">\n",
       "  <thead>\n",
       "    <tr style=\"text-align: right;\">\n",
       "      <th></th>\n",
       "      <th>dst</th>\n",
       "      <th>edge</th>\n",
       "      <th>src</th>\n",
       "    </tr>\n",
       "  </thead>\n",
       "  <tbody>\n",
       "    <tr>\n",
       "      <th>0</th>\n",
       "      <td>d5000000-0000-0000-8000-000000003234</td>\n",
       "      <td>86c30000-0000-0000-8000-000000003208</td>\n",
       "      <td>02a80000-0000-0000-8000-0000000020e8</td>\n",
       "    </tr>\n",
       "    <tr>\n",
       "      <th>1</th>\n",
       "      <td>cef20000-0000-0000-8000-0000000032a9</td>\n",
       "      <td>f9fd0000-0000-0000-8000-00000000321a</td>\n",
       "      <td>064c0000-0000-0000-8000-0000000031a8</td>\n",
       "    </tr>\n",
       "    <tr>\n",
       "      <th>2</th>\n",
       "      <td>d5000000-0000-0000-8000-000000003234</td>\n",
       "      <td>c13a0000-0000-0000-8000-0000000031c4</td>\n",
       "      <td>064c0000-0000-0000-8000-0000000031a8</td>\n",
       "    </tr>\n",
       "    <tr>\n",
       "      <th>3</th>\n",
       "      <td>34490000-0000-0000-8000-0000000032ee</td>\n",
       "      <td>c7340000-0000-0000-8000-000000003254</td>\n",
       "      <td>064c0000-0000-0000-8000-0000000031a8</td>\n",
       "    </tr>\n",
       "  </tbody>\n",
       "</table>\n",
       "</div>"
      ],
      "text/plain": [
       "                                    dst                                  edge  \\\n",
       "0  d5000000-0000-0000-8000-000000003234  86c30000-0000-0000-8000-000000003208   \n",
       "1  cef20000-0000-0000-8000-0000000032a9  f9fd0000-0000-0000-8000-00000000321a   \n",
       "2  d5000000-0000-0000-8000-000000003234  c13a0000-0000-0000-8000-0000000031c4   \n",
       "3  34490000-0000-0000-8000-0000000032ee  c7340000-0000-0000-8000-000000003254   \n",
       "\n",
       "                                    src  \n",
       "0  02a80000-0000-0000-8000-0000000020e8  \n",
       "1  064c0000-0000-0000-8000-0000000031a8  \n",
       "2  064c0000-0000-0000-8000-0000000031a8  \n",
       "3  064c0000-0000-0000-8000-0000000031a8  "
      ]
     },
     "execution_count": 14,
     "metadata": {},
     "output_type": "execute_result"
    }
   ],
   "source": [
    "edges = [\n",
    "    {\n",
    "        \"src\": src_id, \n",
    "        \"edge\": edge['associationDetails']['openlattice.@id'][0],\n",
    "        \"dst\": edge['neighborDetails']['openlattice.@id'][0]\n",
    "    }\n",
    " for src_id, edges in filtered_neighbors.items() for edge in edges \n",
    "]\n",
    "\n",
    "edges_table = pd.DataFrame(edges)\n",
    "edges_table"
   ]
  },
  {
   "cell_type": "markdown",
   "metadata": {},
   "source": [
    "## Combining the data with the association.\n",
    "\n",
    "Now we can do left joins on the edges table with the other tables."
   ]
  },
  {
   "cell_type": "code",
   "execution_count": 15,
   "metadata": {},
   "outputs": [],
   "source": [
    "# get data in dataframe\n",
    "src_data = pd.DataFrame(src_data)\n",
    "edge_data = pd.DataFrame(edge_data)\n",
    "dst_data = pd.DataFrame(dst_data)"
   ]
  },
  {
   "cell_type": "code",
   "execution_count": 16,
   "metadata": {},
   "outputs": [],
   "source": [
    "recombined = edges_table.merge(\n",
    "    src_data, \n",
    "    left_on='src', \n",
    "    right_index = True, \n",
    "    how=\"left\"\n",
    ").merge(\n",
    "    edge_data, \n",
    "    left_on='edge', \n",
    "    right_index = True, \n",
    "    how=\"left\"\n",
    ").merge(\n",
    "    dst_data, \n",
    "    left_on='dst', \n",
    "    right_index = True, \n",
    "    how=\"left\"\n",
    ")"
   ]
  },
  {
   "cell_type": "code",
   "execution_count": 17,
   "metadata": {},
   "outputs": [
    {
     "data": {
      "text/html": [
       "<div>\n",
       "<style scoped>\n",
       "    .dataframe tbody tr th:only-of-type {\n",
       "        vertical-align: middle;\n",
       "    }\n",
       "\n",
       "    .dataframe tbody tr th {\n",
       "        vertical-align: top;\n",
       "    }\n",
       "\n",
       "    .dataframe thead th {\n",
       "        text-align: right;\n",
       "    }\n",
       "</style>\n",
       "<table border=\"1\" class=\"dataframe\">\n",
       "  <thead>\n",
       "    <tr style=\"text-align: right;\">\n",
       "      <th></th>\n",
       "      <th>dst</th>\n",
       "      <th>edge</th>\n",
       "      <th>src</th>\n",
       "      <th>nc.PersonBirthDate</th>\n",
       "      <th>nc.PersonEthnicity</th>\n",
       "      <th>nc.PersonGivenName</th>\n",
       "      <th>nc.PersonRace</th>\n",
       "      <th>nc.PersonSex</th>\n",
       "      <th>nc.PersonSurName</th>\n",
       "      <th>nc.SubjectIdentification</th>\n",
       "      <th>ol.datasource</th>\n",
       "      <th>general.id</th>\n",
       "      <th>ol.id</th>\n",
       "      <th>ol.type</th>\n",
       "    </tr>\n",
       "  </thead>\n",
       "  <tbody>\n",
       "    <tr>\n",
       "      <th>0</th>\n",
       "      <td>d5000000-0000-0000-8000-000000003234</td>\n",
       "      <td>86c30000-0000-0000-8000-000000003208</td>\n",
       "      <td>02a80000-0000-0000-8000-0000000020e8</td>\n",
       "      <td>1967-03-20</td>\n",
       "      <td>nonhispanic</td>\n",
       "      <td>Tamara</td>\n",
       "      <td>asian</td>\n",
       "      <td>F</td>\n",
       "      <td>Koch</td>\n",
       "      <td>ba086259-551e-4764-be3c-a3a44d34de92</td>\n",
       "      <td>Forest Outpatient Treatment</td>\n",
       "      <td>ba086259-551e-4764-be3c-a3a44d34de92_HOMELESS</td>\n",
       "      <td>HOMELESS</td>\n",
       "      <td>HOMELESS</td>\n",
       "    </tr>\n",
       "    <tr>\n",
       "      <th>1</th>\n",
       "      <td>cef20000-0000-0000-8000-0000000032a9</td>\n",
       "      <td>f9fd0000-0000-0000-8000-00000000321a</td>\n",
       "      <td>064c0000-0000-0000-8000-0000000031a8</td>\n",
       "      <td>1994-12-12</td>\n",
       "      <td>hispanic</td>\n",
       "      <td>Anthony</td>\n",
       "      <td>other</td>\n",
       "      <td>M</td>\n",
       "      <td>Burton-Johnston</td>\n",
       "      <td>ca18962e-a0c1-401f-b171-b2435b696ff2</td>\n",
       "      <td>Forest Outpatient Treatment</td>\n",
       "      <td>ca18962e-a0c1-401f-b171-b2435b696ff2_INDEPENDE...</td>\n",
       "      <td>INDEPENDENT LIVING</td>\n",
       "      <td>INDEPENDENT LIVING</td>\n",
       "    </tr>\n",
       "    <tr>\n",
       "      <th>2</th>\n",
       "      <td>d5000000-0000-0000-8000-000000003234</td>\n",
       "      <td>c13a0000-0000-0000-8000-0000000031c4</td>\n",
       "      <td>064c0000-0000-0000-8000-0000000031a8</td>\n",
       "      <td>1994-12-12</td>\n",
       "      <td>hispanic</td>\n",
       "      <td>Anthony</td>\n",
       "      <td>other</td>\n",
       "      <td>M</td>\n",
       "      <td>Burton-Johnston</td>\n",
       "      <td>ca18962e-a0c1-401f-b171-b2435b696ff2</td>\n",
       "      <td>Forest Outpatient Treatment</td>\n",
       "      <td>ca18962e-a0c1-401f-b171-b2435b696ff2_HOMELESS</td>\n",
       "      <td>HOMELESS</td>\n",
       "      <td>HOMELESS</td>\n",
       "    </tr>\n",
       "    <tr>\n",
       "      <th>3</th>\n",
       "      <td>34490000-0000-0000-8000-0000000032ee</td>\n",
       "      <td>c7340000-0000-0000-8000-000000003254</td>\n",
       "      <td>064c0000-0000-0000-8000-0000000031a8</td>\n",
       "      <td>1994-12-12</td>\n",
       "      <td>hispanic</td>\n",
       "      <td>Anthony</td>\n",
       "      <td>other</td>\n",
       "      <td>M</td>\n",
       "      <td>Burton-Johnston</td>\n",
       "      <td>ca18962e-a0c1-401f-b171-b2435b696ff2</td>\n",
       "      <td>Forest Outpatient Treatment</td>\n",
       "      <td>ca18962e-a0c1-401f-b171-b2435b696ff2_DEPENDENT...</td>\n",
       "      <td>DEPENDENT LIVING</td>\n",
       "      <td>DEPENDENT LIVING</td>\n",
       "    </tr>\n",
       "  </tbody>\n",
       "</table>\n",
       "</div>"
      ],
      "text/plain": [
       "                                    dst                                  edge  \\\n",
       "0  d5000000-0000-0000-8000-000000003234  86c30000-0000-0000-8000-000000003208   \n",
       "1  cef20000-0000-0000-8000-0000000032a9  f9fd0000-0000-0000-8000-00000000321a   \n",
       "2  d5000000-0000-0000-8000-000000003234  c13a0000-0000-0000-8000-0000000031c4   \n",
       "3  34490000-0000-0000-8000-0000000032ee  c7340000-0000-0000-8000-000000003254   \n",
       "\n",
       "                                    src nc.PersonBirthDate nc.PersonEthnicity  \\\n",
       "0  02a80000-0000-0000-8000-0000000020e8         1967-03-20        nonhispanic   \n",
       "1  064c0000-0000-0000-8000-0000000031a8         1994-12-12           hispanic   \n",
       "2  064c0000-0000-0000-8000-0000000031a8         1994-12-12           hispanic   \n",
       "3  064c0000-0000-0000-8000-0000000031a8         1994-12-12           hispanic   \n",
       "\n",
       "  nc.PersonGivenName nc.PersonRace nc.PersonSex nc.PersonSurName  \\\n",
       "0             Tamara         asian            F             Koch   \n",
       "1            Anthony         other            M  Burton-Johnston   \n",
       "2            Anthony         other            M  Burton-Johnston   \n",
       "3            Anthony         other            M  Burton-Johnston   \n",
       "\n",
       "               nc.SubjectIdentification                ol.datasource  \\\n",
       "0  ba086259-551e-4764-be3c-a3a44d34de92  Forest Outpatient Treatment   \n",
       "1  ca18962e-a0c1-401f-b171-b2435b696ff2  Forest Outpatient Treatment   \n",
       "2  ca18962e-a0c1-401f-b171-b2435b696ff2  Forest Outpatient Treatment   \n",
       "3  ca18962e-a0c1-401f-b171-b2435b696ff2  Forest Outpatient Treatment   \n",
       "\n",
       "                                          general.id               ol.id  \\\n",
       "0      ba086259-551e-4764-be3c-a3a44d34de92_HOMELESS            HOMELESS   \n",
       "1  ca18962e-a0c1-401f-b171-b2435b696ff2_INDEPENDE...  INDEPENDENT LIVING   \n",
       "2      ca18962e-a0c1-401f-b171-b2435b696ff2_HOMELESS            HOMELESS   \n",
       "3  ca18962e-a0c1-401f-b171-b2435b696ff2_DEPENDENT...    DEPENDENT LIVING   \n",
       "\n",
       "              ol.type  \n",
       "0            HOMELESS  \n",
       "1  INDEPENDENT LIVING  \n",
       "2            HOMELESS  \n",
       "3    DEPENDENT LIVING  "
      ]
     },
     "execution_count": 17,
     "metadata": {},
     "output_type": "execute_result"
    }
   ],
   "source": [
    "recombined.head(5)"
   ]
  }
 ],
 "metadata": {
  "kernelspec": {
   "display_name": "Python 3",
   "language": "python",
   "name": "python3"
  },
  "language_info": {
   "codemirror_mode": {
    "name": "ipython",
    "version": 3
   },
   "file_extension": ".py",
   "mimetype": "text/x-python",
   "name": "python",
   "nbconvert_exporter": "python",
   "pygments_lexer": "ipython3",
   "version": "3.6.5"
  }
 },
 "nbformat": 4,
 "nbformat_minor": 2
}
